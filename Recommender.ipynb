{
 "cells": [
  {
   "cell_type": "markdown",
   "metadata": {},
   "source": [
    "## Import and format json data\n",
    "Importing playlists from jsons and formatting them into ratings data frame. (Get data from https://owncloud.tuwien.ac.at/index.php/s/A8Wx2TpFr0WznZh)"
   ]
  },
  {
   "cell_type": "code",
   "execution_count": 116,
   "metadata": {
    "scrolled": true
   },
   "outputs": [
    {
     "data": {
      "text/html": [
       "<div>\n",
       "<style scoped>\n",
       "    .dataframe tbody tr th:only-of-type {\n",
       "        vertical-align: middle;\n",
       "    }\n",
       "\n",
       "    .dataframe tbody tr th {\n",
       "        vertical-align: top;\n",
       "    }\n",
       "\n",
       "    .dataframe thead th {\n",
       "        text-align: right;\n",
       "    }\n",
       "</style>\n",
       "<table border=\"1\" class=\"dataframe\">\n",
       "  <thead>\n",
       "    <tr style=\"text-align: right;\">\n",
       "      <th></th>\n",
       "      <th>track_uri</th>\n",
       "      <th>track_name</th>\n",
       "      <th>artist_uri</th>\n",
       "      <th>artist_name</th>\n",
       "      <th>album_uri</th>\n",
       "      <th>album_name</th>\n",
       "      <th>duration_ms</th>\n",
       "    </tr>\n",
       "  </thead>\n",
       "  <tbody>\n",
       "    <tr>\n",
       "      <th>0</th>\n",
       "      <td>spotify:track:2CFGQXM3exBO8U9WGve2GY</td>\n",
       "      <td>Elle me dit</td>\n",
       "      <td>spotify:artist:5MmVJVhhYKQ86izuGHzJYA</td>\n",
       "      <td>MIKA</td>\n",
       "      <td>spotify:album:0zY3JRYHC0rycbFUqGcRpV</td>\n",
       "      <td>The Origin Of Love</td>\n",
       "      <td>216933</td>\n",
       "    </tr>\n",
       "    <tr>\n",
       "      <th>1</th>\n",
       "      <td>spotify:track:09TcIuH1ZO7i4vicWKoaN2</td>\n",
       "      <td>Papaoutai</td>\n",
       "      <td>spotify:artist:5j4HeCoUlzhfWtjAfM1acR</td>\n",
       "      <td>Stromae</td>\n",
       "      <td>spotify:album:4WW3ME0M2dUoAK5hmbXsN7</td>\n",
       "      <td>racine carrée</td>\n",
       "      <td>232146</td>\n",
       "    </tr>\n",
       "    <tr>\n",
       "      <th>2</th>\n",
       "      <td>spotify:track:3Uyt0WO3wOopnUBCe9BaXl</td>\n",
       "      <td>Sur ma route</td>\n",
       "      <td>spotify:artist:7lMgpN1tEBQKpRoUMKB8iw</td>\n",
       "      <td>Black M</td>\n",
       "      <td>spotify:album:1D2Rs9qcENebbiDR5wk88T</td>\n",
       "      <td>Les yeux plus gros que le monde</td>\n",
       "      <td>252573</td>\n",
       "    </tr>\n",
       "    <tr>\n",
       "      <th>3</th>\n",
       "      <td>spotify:track:4h95OrjKWYzVIai1EkvZbt</td>\n",
       "      <td>Ta fête</td>\n",
       "      <td>spotify:artist:5j4HeCoUlzhfWtjAfM1acR</td>\n",
       "      <td>Stromae</td>\n",
       "      <td>spotify:album:4WW3ME0M2dUoAK5hmbXsN7</td>\n",
       "      <td>racine carrée</td>\n",
       "      <td>175426</td>\n",
       "    </tr>\n",
       "    <tr>\n",
       "      <th>4</th>\n",
       "      <td>spotify:track:3pCN6X0566rmU6P5ZgFIYu</td>\n",
       "      <td>bâtard</td>\n",
       "      <td>spotify:artist:5j4HeCoUlzhfWtjAfM1acR</td>\n",
       "      <td>Stromae</td>\n",
       "      <td>spotify:album:4WW3ME0M2dUoAK5hmbXsN7</td>\n",
       "      <td>racine carrée</td>\n",
       "      <td>208826</td>\n",
       "    </tr>\n",
       "  </tbody>\n",
       "</table>\n",
       "</div>"
      ],
      "text/plain": [
       "                              track_uri    track_name  \\\n",
       "0  spotify:track:2CFGQXM3exBO8U9WGve2GY   Elle me dit   \n",
       "1  spotify:track:09TcIuH1ZO7i4vicWKoaN2     Papaoutai   \n",
       "2  spotify:track:3Uyt0WO3wOopnUBCe9BaXl  Sur ma route   \n",
       "3  spotify:track:4h95OrjKWYzVIai1EkvZbt       Ta fête   \n",
       "4  spotify:track:3pCN6X0566rmU6P5ZgFIYu        bâtard   \n",
       "\n",
       "                              artist_uri artist_name  \\\n",
       "0  spotify:artist:5MmVJVhhYKQ86izuGHzJYA        MIKA   \n",
       "1  spotify:artist:5j4HeCoUlzhfWtjAfM1acR     Stromae   \n",
       "2  spotify:artist:7lMgpN1tEBQKpRoUMKB8iw     Black M   \n",
       "3  spotify:artist:5j4HeCoUlzhfWtjAfM1acR     Stromae   \n",
       "4  spotify:artist:5j4HeCoUlzhfWtjAfM1acR     Stromae   \n",
       "\n",
       "                              album_uri                       album_name  \\\n",
       "0  spotify:album:0zY3JRYHC0rycbFUqGcRpV               The Origin Of Love   \n",
       "1  spotify:album:4WW3ME0M2dUoAK5hmbXsN7                    racine carrée   \n",
       "2  spotify:album:1D2Rs9qcENebbiDR5wk88T  Les yeux plus gros que le monde   \n",
       "3  spotify:album:4WW3ME0M2dUoAK5hmbXsN7                    racine carrée   \n",
       "4  spotify:album:4WW3ME0M2dUoAK5hmbXsN7                    racine carrée   \n",
       "\n",
       "   duration_ms  \n",
       "0       216933  \n",
       "1       232146  \n",
       "2       252573  \n",
       "3       175426  \n",
       "4       208826  "
      ]
     },
     "execution_count": 116,
     "metadata": {},
     "output_type": "execute_result"
    }
   ],
   "source": [
    "import pandas as pd\n",
    "import numpy as np\n",
    "import json\n",
    "\n",
    "# load data\n",
    "train = json.load(open('data/train.json', encoding = \"utf8\"))\n",
    "\n",
    "dev = json.load(open('data/dev.json', encoding = \"utf8\"))\n",
    "dev_trun = json.load(open('data/dev_trun.json', encoding=\"utf8\"))\n",
    "\n",
    "test = json.load(open('data/test.json', encoding = \"utf8\"))\n",
    "test_trun = json.load(open('data/test_trun.json', encoding = \"utf8\"))\n",
    "\n",
    "# create ratings df with training + dev for validation (equivalent to 'ratings_train' data frame in Assignment 4.1)\n",
    "rating_list = []\n",
    "\n",
    "seen = set()\n",
    "track_list = []\n",
    "for playlist in train['playlists']:\n",
    "    for track in playlist['tracks']:\n",
    "        rating_list.append([playlist['pid'], playlist['name'], track['track_uri'], 1.0])\n",
    "        if track['track_uri'] not in seen:\n",
    "            seen.add(track['track_uri'])\n",
    "            track_list.append([track['track_uri'], track['track_name'], track['artist_uri'], track['artist_name'], track['album_uri'], track['album_name'], track['duration_ms']])\n",
    "\n",
    "for playlist in dev_trun['playlists']:\n",
    "    for track in playlist['tracks']:\n",
    "        rating_list.append([playlist['pid'], playlist['name'], track['track_uri'], 1.0])\n",
    "        if track['track_uri'] not in seen:\n",
    "            seen.add(track['track_uri'])\n",
    "            track_list.append([track['track_uri'], track['track_name'], track['artist_uri'], track['artist_name'], track['album_uri'], track['album_name'], track['duration_ms']])\n",
    "\n",
    "ratings_train_dev = pd.DataFrame(rating_list, columns = ['pid', 'name', 'track_uri', 'rating'])\n",
    "tracks = pd.DataFrame(track_list, columns = ['track_uri', 'track_name', 'artist_uri', 'artist_name', 'album_uri', 'album_name', 'duration_ms'])\n",
    "                           \n",
    "# create ratings df for testing\n",
    "rating_list = []\n",
    "for playlist in train['playlists']:\n",
    "    for track in playlist['tracks']:\n",
    "        rating_list.append([playlist['pid'], playlist['name'], track['track_uri'], 1.0])\n",
    "for playlist in test_trun['playlists']:\n",
    "    for track in playlist['tracks']:\n",
    "        rating_list.append([playlist['pid'], playlist['name'], track['track_uri'], 1.0])\n",
    "\n",
    "ratings_train_test = pd.DataFrame(rating_list, columns = ['pid', 'name', 'track_uri', 'rating'])\n",
    "\n",
    "# holdouts ('topN' equivalent)\n",
    "dev_holdouts = {playlist['pid']:playlist['num_holdouts'] for playlist in dev['playlists']}\n",
    "test_holdouts = {playlist['pid']:playlist['num_holdouts'] for playlist in test['playlists']}\n",
    "\n",
    "#ratings_train_dev.head()\n",
    "tracks.head()\n",
    "\n",
    "# not sure if train and dev need to be combined.. train alone doesn't miss any tracks, \n",
    "# so we cannot test the model on it. Combining it with def, we can make predictions on\n",
    "# missing tracks in dev playlists. EDIT: I think combining is right. Also combining train + test. \n",
    "# Otherwise, train isn't part of the model.\n"
   ]
  },
  {
   "cell_type": "markdown",
   "metadata": {},
   "source": [
    "## Import and test recommenders"
   ]
  },
  {
   "cell_type": "code",
   "execution_count": 117,
   "metadata": {},
   "outputs": [
    {
     "name": "stdout",
     "output_type": "stream",
     "text": [
      "The autoreload extension is already loaded. To reload it, use:\n",
      "  %reload_ext autoreload\n"
     ]
    }
   ],
   "source": [
    "%load_ext autoreload\n",
    "%autoreload 2\n",
    "from Recommender_CB import ContentBasedRecommender\n",
    "from Recommender_CF_UU import UUCFRecommender\n",
    "from Recommender_MF import MFRecommender"
   ]
  },
  {
   "cell_type": "code",
   "execution_count": 71,
   "metadata": {},
   "outputs": [
    {
     "ename": "AttributeError",
     "evalue": "'DataFrame' object has no attribute 'movieId'",
     "output_type": "error",
     "traceback": [
      "\u001b[1;31m---------------------------------------------------------------------------\u001b[0m",
      "\u001b[1;31mAttributeError\u001b[0m                            Traceback (most recent call last)",
      "\u001b[1;32m<ipython-input-71-c600f641a8cd>\u001b[0m in \u001b[0;36m<module>\u001b[1;34m()\u001b[0m\n\u001b[0;32m      1\u001b[0m \u001b[1;31m## Matrix Fac.\u001b[0m\u001b[1;33m\u001b[0m\u001b[1;33m\u001b[0m\u001b[0m\n\u001b[0;32m      2\u001b[0m \u001b[0mmfr\u001b[0m \u001b[1;33m=\u001b[0m \u001b[0mMFRecommender\u001b[0m\u001b[1;33m(\u001b[0m\u001b[1;33m)\u001b[0m\u001b[1;33m\u001b[0m\u001b[0m\n\u001b[1;32m----> 3\u001b[1;33m \u001b[0mmfr\u001b[0m\u001b[1;33m.\u001b[0m\u001b[0mbuild_model\u001b[0m\u001b[1;33m(\u001b[0m\u001b[0mratings_train_dev\u001b[0m\u001b[1;33m)\u001b[0m\u001b[1;33m\u001b[0m\u001b[0m\n\u001b[0m\u001b[0;32m      4\u001b[0m \u001b[1;33m\u001b[0m\u001b[0m\n\u001b[0;32m      5\u001b[0m \u001b[0mrecs\u001b[0m \u001b[1;33m=\u001b[0m \u001b[0mmfr\u001b[0m\u001b[1;33m.\u001b[0m\u001b[0mrecommend\u001b[0m\u001b[1;33m(\u001b[0m\u001b[1;34m'498917'\u001b[0m\u001b[1;33m,\u001b[0m \u001b[0mtopN\u001b[0m \u001b[1;33m=\u001b[0m \u001b[0mholdouts\u001b[0m\u001b[1;33m[\u001b[0m\u001b[1;34m'498917'\u001b[0m\u001b[1;33m]\u001b[0m\u001b[1;33m)\u001b[0m\u001b[1;33m\u001b[0m\u001b[0m\n",
      "\u001b[1;32mD:\\STUDIUM\\6.Semester\\RECSYS\\Challenge\\Spotify_RecSysChallenge2018\\Recommender_MF.py\u001b[0m in \u001b[0;36mbuild_model\u001b[1;34m(self, ratings_train, movies)\u001b[0m\n\u001b[0;32m    293\u001b[0m     \u001b[1;32mdef\u001b[0m \u001b[0mbuild_model\u001b[0m\u001b[1;33m(\u001b[0m\u001b[0mself\u001b[0m\u001b[1;33m,\u001b[0m \u001b[0mratings_train\u001b[0m\u001b[1;33m,\u001b[0m \u001b[0mmovies\u001b[0m \u001b[1;33m=\u001b[0m \u001b[1;32mNone\u001b[0m\u001b[1;33m)\u001b[0m\u001b[1;33m:\u001b[0m\u001b[1;33m\u001b[0m\u001b[0m\n\u001b[0;32m    294\u001b[0m         \u001b[0mself\u001b[0m\u001b[1;33m.\u001b[0m\u001b[0mratings_train\u001b[0m \u001b[1;33m=\u001b[0m \u001b[0mratings_train\u001b[0m\u001b[1;33m\u001b[0m\u001b[0m\n\u001b[1;32m--> 295\u001b[1;33m         \u001b[0mself\u001b[0m\u001b[1;33m.\u001b[0m\u001b[0mcreate_Ratings_Matrix\u001b[0m\u001b[1;33m(\u001b[0m\u001b[1;33m)\u001b[0m\u001b[1;33m\u001b[0m\u001b[0m\n\u001b[0m\u001b[0;32m    296\u001b[0m \u001b[1;33m\u001b[0m\u001b[0m\n\u001b[0;32m    297\u001b[0m         \u001b[0mX\u001b[0m\u001b[1;33m,\u001b[0m \u001b[0my\u001b[0m\u001b[1;33m,\u001b[0m \u001b[0mn_users\u001b[0m\u001b[1;33m,\u001b[0m \u001b[0mn_items\u001b[0m \u001b[1;33m=\u001b[0m \u001b[0mto_Xy_format\u001b[0m\u001b[1;33m(\u001b[0m\u001b[0mself\u001b[0m\u001b[1;33m.\u001b[0m\u001b[0mR\u001b[0m\u001b[1;33m)\u001b[0m\u001b[1;33m\u001b[0m\u001b[0m\n",
      "\u001b[1;32mD:\\STUDIUM\\6.Semester\\RECSYS\\Challenge\\Spotify_RecSysChallenge2018\\Recommender_MF.py\u001b[0m in \u001b[0;36mcreate_Ratings_Matrix\u001b[1;34m(self)\u001b[0m\n\u001b[0;32m     68\u001b[0m     \u001b[1;32mdef\u001b[0m \u001b[0mcreate_Ratings_Matrix\u001b[0m\u001b[1;33m(\u001b[0m\u001b[0mself\u001b[0m\u001b[1;33m)\u001b[0m\u001b[1;33m:\u001b[0m\u001b[1;33m\u001b[0m\u001b[0m\n\u001b[0;32m     69\u001b[0m \u001b[1;33m\u001b[0m\u001b[0m\n\u001b[1;32m---> 70\u001b[1;33m         \u001b[0mself\u001b[0m\u001b[1;33m.\u001b[0m\u001b[0mmovieIds\u001b[0m \u001b[1;33m=\u001b[0m \u001b[0mself\u001b[0m\u001b[1;33m.\u001b[0m\u001b[0mratings_train\u001b[0m\u001b[1;33m.\u001b[0m\u001b[0mmovieId\u001b[0m\u001b[1;33m.\u001b[0m\u001b[0munique\u001b[0m\u001b[1;33m(\u001b[0m\u001b[1;33m)\u001b[0m\u001b[1;33m\u001b[0m\u001b[0m\n\u001b[0m\u001b[0;32m     71\u001b[0m         \u001b[0mself\u001b[0m\u001b[1;33m.\u001b[0m\u001b[0mmovieIds\u001b[0m\u001b[1;33m.\u001b[0m\u001b[0msort\u001b[0m\u001b[1;33m(\u001b[0m\u001b[1;33m)\u001b[0m\u001b[1;33m\u001b[0m\u001b[0m\n\u001b[0;32m     72\u001b[0m         \u001b[0mself\u001b[0m\u001b[1;33m.\u001b[0m\u001b[0muserIds\u001b[0m \u001b[1;33m=\u001b[0m \u001b[0mself\u001b[0m\u001b[1;33m.\u001b[0m\u001b[0mratings_train\u001b[0m\u001b[1;33m.\u001b[0m\u001b[0muserId\u001b[0m\u001b[1;33m.\u001b[0m\u001b[0munique\u001b[0m\u001b[1;33m(\u001b[0m\u001b[1;33m)\u001b[0m\u001b[1;33m\u001b[0m\u001b[0m\n",
      "\u001b[1;32mD:\\Program_Files\\Anaconda3\\lib\\site-packages\\pandas\\core\\generic.py\u001b[0m in \u001b[0;36m__getattr__\u001b[1;34m(self, name)\u001b[0m\n\u001b[0;32m   3612\u001b[0m             \u001b[1;32mif\u001b[0m \u001b[0mname\u001b[0m \u001b[1;32min\u001b[0m \u001b[0mself\u001b[0m\u001b[1;33m.\u001b[0m\u001b[0m_info_axis\u001b[0m\u001b[1;33m:\u001b[0m\u001b[1;33m\u001b[0m\u001b[0m\n\u001b[0;32m   3613\u001b[0m                 \u001b[1;32mreturn\u001b[0m \u001b[0mself\u001b[0m\u001b[1;33m[\u001b[0m\u001b[0mname\u001b[0m\u001b[1;33m]\u001b[0m\u001b[1;33m\u001b[0m\u001b[0m\n\u001b[1;32m-> 3614\u001b[1;33m             \u001b[1;32mreturn\u001b[0m \u001b[0mobject\u001b[0m\u001b[1;33m.\u001b[0m\u001b[0m__getattribute__\u001b[0m\u001b[1;33m(\u001b[0m\u001b[0mself\u001b[0m\u001b[1;33m,\u001b[0m \u001b[0mname\u001b[0m\u001b[1;33m)\u001b[0m\u001b[1;33m\u001b[0m\u001b[0m\n\u001b[0m\u001b[0;32m   3615\u001b[0m \u001b[1;33m\u001b[0m\u001b[0m\n\u001b[0;32m   3616\u001b[0m     \u001b[1;32mdef\u001b[0m \u001b[0m__setattr__\u001b[0m\u001b[1;33m(\u001b[0m\u001b[0mself\u001b[0m\u001b[1;33m,\u001b[0m \u001b[0mname\u001b[0m\u001b[1;33m,\u001b[0m \u001b[0mvalue\u001b[0m\u001b[1;33m)\u001b[0m\u001b[1;33m:\u001b[0m\u001b[1;33m\u001b[0m\u001b[0m\n",
      "\u001b[1;31mAttributeError\u001b[0m: 'DataFrame' object has no attribute 'movieId'"
     ]
    }
   ],
   "source": [
    "## Matrix Fac.\n",
    "mfr = MFRecommender()\n",
    "mfr.build_model(ratings_train_dev)\n",
    "\n",
    "recs = mfr.recommend('498917', topN = holdouts['498917'])\n",
    "print(recs)\n",
    "\n",
    "\n",
    "## UU-CB\n",
    "uucf = UUCFRecommender()\n",
    "uucf.build_model(ratings_train_dev)\n",
    "\n",
    "recs = uucf.recommend('498917', topN = holdouts['498917'])\n",
    "print(recs)"
   ]
  },
  {
   "cell_type": "code",
   "execution_count": null,
   "metadata": {},
   "outputs": [
    {
     "name": "stdout",
     "output_type": "stream",
     "text": [
      "ok\n"
     ]
    }
   ],
   "source": [
    "## Content-based \n",
    "cbr = ContentBasedRecommender('extended')\n",
    "cbr.build_model(ratings_train_dev, tracks)"
   ]
  },
  {
   "cell_type": "code",
   "execution_count": 136,
   "metadata": {},
   "outputs": [
    {
     "ename": "AttributeError",
     "evalue": "'ContentBasedRecommender' object has no attribute 'playlist_profiles'",
     "output_type": "error",
     "traceback": [
      "\u001b[1;31m---------------------------------------------------------------------------\u001b[0m",
      "\u001b[1;31mAttributeError\u001b[0m                            Traceback (most recent call last)",
      "\u001b[1;32m<ipython-input-136-9d377b2f8998>\u001b[0m in \u001b[0;36m<module>\u001b[1;34m()\u001b[0m\n\u001b[1;32m----> 1\u001b[1;33m \u001b[0mrecs\u001b[0m \u001b[1;33m=\u001b[0m \u001b[0mcbr\u001b[0m\u001b[1;33m.\u001b[0m\u001b[0mrecommend\u001b[0m\u001b[1;33m(\u001b[0m\u001b[1;36m498917\u001b[0m\u001b[1;33m,\u001b[0m \u001b[0mtopN\u001b[0m \u001b[1;33m=\u001b[0m \u001b[0mdev_holdouts\u001b[0m\u001b[1;33m.\u001b[0m\u001b[0mget\u001b[0m\u001b[1;33m(\u001b[0m\u001b[1;36m498917\u001b[0m\u001b[1;33m)\u001b[0m\u001b[1;33m)\u001b[0m\u001b[1;33m\u001b[0m\u001b[0m\n\u001b[0m\u001b[0;32m      2\u001b[0m \u001b[0mprint\u001b[0m\u001b[1;33m(\u001b[0m\u001b[0mrecs\u001b[0m\u001b[1;33m)\u001b[0m\u001b[1;33m\u001b[0m\u001b[0m\n",
      "\u001b[1;32mD:\\STUDIUM\\6.Semester\\RECSYS\\Challenge\\Spotify_RecSysChallenge2018\\Recommender_CB.py\u001b[0m in \u001b[0;36mrecommend\u001b[1;34m(self, playlist_id, track_ids, topN)\u001b[0m\n\u001b[0;32m    129\u001b[0m         \u001b[0mtracks_rated_by_playlist\u001b[0m \u001b[1;33m=\u001b[0m \u001b[0mself\u001b[0m\u001b[1;33m.\u001b[0m\u001b[0mratings_train\u001b[0m\u001b[1;33m[\u001b[0m\u001b[0mself\u001b[0m\u001b[1;33m.\u001b[0m\u001b[0mratings_train\u001b[0m\u001b[1;33m.\u001b[0m\u001b[0mpid\u001b[0m \u001b[1;33m==\u001b[0m \u001b[0mplaylist_id\u001b[0m\u001b[1;33m]\u001b[0m\u001b[1;33m.\u001b[0m\u001b[0mtrack_uri\u001b[0m\u001b[1;33m.\u001b[0m\u001b[0mvalues\u001b[0m\u001b[1;33m\u001b[0m\u001b[0m\n\u001b[0;32m    130\u001b[0m \u001b[1;33m\u001b[0m\u001b[0m\n\u001b[1;32m--> 131\u001b[1;33m         \u001b[0msimilar_items\u001b[0m \u001b[1;33m=\u001b[0m \u001b[0mself\u001b[0m\u001b[1;33m.\u001b[0m\u001b[0mget_similar_tracks_to_playlist_profile\u001b[0m\u001b[1;33m(\u001b[0m\u001b[0mplaylist_id\u001b[0m\u001b[1;33m,\u001b[0m \u001b[1;36m0\u001b[0m\u001b[1;33m)\u001b[0m \u001b[1;31m## 0 means return all\u001b[0m\u001b[1;33m\u001b[0m\u001b[0m\n\u001b[0m\u001b[0;32m    132\u001b[0m \u001b[1;33m\u001b[0m\u001b[0m\n\u001b[0;32m    133\u001b[0m         \u001b[0mrecommendations\u001b[0m \u001b[1;33m=\u001b[0m \u001b[1;33m[\u001b[0m\u001b[1;33m]\u001b[0m\u001b[1;33m\u001b[0m\u001b[0m\n",
      "\u001b[1;32mD:\\STUDIUM\\6.Semester\\RECSYS\\Challenge\\Spotify_RecSysChallenge2018\\Recommender_CB.py\u001b[0m in \u001b[0;36mget_similar_tracks_to_playlist_profile\u001b[1;34m(self, pid, topN)\u001b[0m\n\u001b[0;32m     94\u001b[0m         \u001b[1;31m# compute the cosine similarity between the playlist profile and all track profiles\u001b[0m\u001b[1;33m\u001b[0m\u001b[1;33m\u001b[0m\u001b[0m\n\u001b[0;32m     95\u001b[0m         \u001b[1;31m# use linear_kernel function from sklearn.metrics.pairwise\u001b[0m\u001b[1;33m\u001b[0m\u001b[1;33m\u001b[0m\u001b[0m\n\u001b[1;32m---> 96\u001b[1;33m         \u001b[0mcosine_sim\u001b[0m \u001b[1;33m=\u001b[0m \u001b[0mlinear_kernel\u001b[0m\u001b[1;33m(\u001b[0m\u001b[0mself\u001b[0m\u001b[1;33m.\u001b[0m\u001b[0mplaylist_profiles\u001b[0m\u001b[1;33m[\u001b[0m\u001b[0mpid\u001b[0m\u001b[1;33m]\u001b[0m\u001b[1;33m,\u001b[0m \u001b[0mself\u001b[0m\u001b[1;33m.\u001b[0m\u001b[0mtfidf\u001b[0m\u001b[1;33m)\u001b[0m\u001b[1;33m\u001b[0m\u001b[0m\n\u001b[0m\u001b[0;32m     97\u001b[0m \u001b[1;33m\u001b[0m\u001b[0m\n\u001b[0;32m     98\u001b[0m         \u001b[1;31m# Get the top similar items\u001b[0m\u001b[1;33m\u001b[0m\u001b[1;33m\u001b[0m\u001b[0m\n",
      "\u001b[1;31mAttributeError\u001b[0m: 'ContentBasedRecommender' object has no attribute 'playlist_profiles'"
     ]
    }
   ],
   "source": [
    "recs = cbr.recommend(498917, topN = dev_holdouts.get(498917))\n",
    "print(recs)"
   ]
  },
  {
   "cell_type": "markdown",
   "metadata": {},
   "source": [
    "## Parameter tuning\n",
    "Parameters are tuned through evaluating performance of different parameter settings on the train+dev (?) set. Those settings will be used for the test set."
   ]
  },
  {
   "cell_type": "code",
   "execution_count": null,
   "metadata": {},
   "outputs": [],
   "source": [
    "import metrics\n",
    "\n",
    "#TODO: Parameter tuning"
   ]
  },
  {
   "cell_type": "markdown",
   "metadata": {},
   "source": [
    "## Evaluation on test set "
   ]
  },
  {
   "cell_type": "code",
   "execution_count": null,
   "metadata": {},
   "outputs": [],
   "source": [
    "import metrics\n",
    "\n",
    "#TODO: evaluation on test set"
   ]
  }
 ],
 "metadata": {
  "kernelspec": {
   "display_name": "Python 3",
   "language": "python",
   "name": "python3"
  },
  "language_info": {
   "codemirror_mode": {
    "name": "ipython",
    "version": 3
   },
   "file_extension": ".py",
   "mimetype": "text/x-python",
   "name": "python",
   "nbconvert_exporter": "python",
   "pygments_lexer": "ipython3",
   "version": "3.6.4"
  }
 },
 "nbformat": 4,
 "nbformat_minor": 2
}
