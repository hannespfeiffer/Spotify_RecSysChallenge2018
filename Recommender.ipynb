{
 "cells": [
  {
   "cell_type": "markdown",
   "metadata": {},
   "source": [
    "## Import and format json data\n",
    "Importing playlists from jsons and formatting them into ratings data frame. (Get data from https://owncloud.tuwien.ac.at/index.php/s/A8Wx2TpFr0WznZh)"
   ]
  },
  {
   "cell_type": "code",
   "execution_count": 156,
   "metadata": {
    "scrolled": true
   },
   "outputs": [
    {
     "data": {
      "text/html": [
       "<div>\n",
       "<style scoped>\n",
       "    .dataframe tbody tr th:only-of-type {\n",
       "        vertical-align: middle;\n",
       "    }\n",
       "\n",
       "    .dataframe tbody tr th {\n",
       "        vertical-align: top;\n",
       "    }\n",
       "\n",
       "    .dataframe thead th {\n",
       "        text-align: right;\n",
       "    }\n",
       "</style>\n",
       "<table border=\"1\" class=\"dataframe\">\n",
       "  <thead>\n",
       "    <tr style=\"text-align: right;\">\n",
       "      <th></th>\n",
       "      <th>track_uri</th>\n",
       "      <th>track_name</th>\n",
       "      <th>artist_uri</th>\n",
       "      <th>artist_name</th>\n",
       "      <th>album_uri</th>\n",
       "      <th>album_name</th>\n",
       "      <th>duration_ms</th>\n",
       "    </tr>\n",
       "  </thead>\n",
       "  <tbody>\n",
       "    <tr>\n",
       "      <th>0</th>\n",
       "      <td>spotify:track:2CFGQXM3exBO8U9WGve2GY</td>\n",
       "      <td>Elle me dit</td>\n",
       "      <td>spotify:artist:5MmVJVhhYKQ86izuGHzJYA</td>\n",
       "      <td>MIKA</td>\n",
       "      <td>spotify:album:0zY3JRYHC0rycbFUqGcRpV</td>\n",
       "      <td>The Origin Of Love</td>\n",
       "      <td>216933</td>\n",
       "    </tr>\n",
       "    <tr>\n",
       "      <th>1</th>\n",
       "      <td>spotify:track:09TcIuH1ZO7i4vicWKoaN2</td>\n",
       "      <td>Papaoutai</td>\n",
       "      <td>spotify:artist:5j4HeCoUlzhfWtjAfM1acR</td>\n",
       "      <td>Stromae</td>\n",
       "      <td>spotify:album:4WW3ME0M2dUoAK5hmbXsN7</td>\n",
       "      <td>racine carrée</td>\n",
       "      <td>232146</td>\n",
       "    </tr>\n",
       "    <tr>\n",
       "      <th>2</th>\n",
       "      <td>spotify:track:3Uyt0WO3wOopnUBCe9BaXl</td>\n",
       "      <td>Sur ma route</td>\n",
       "      <td>spotify:artist:7lMgpN1tEBQKpRoUMKB8iw</td>\n",
       "      <td>Black M</td>\n",
       "      <td>spotify:album:1D2Rs9qcENebbiDR5wk88T</td>\n",
       "      <td>Les yeux plus gros que le monde</td>\n",
       "      <td>252573</td>\n",
       "    </tr>\n",
       "    <tr>\n",
       "      <th>3</th>\n",
       "      <td>spotify:track:4h95OrjKWYzVIai1EkvZbt</td>\n",
       "      <td>Ta fête</td>\n",
       "      <td>spotify:artist:5j4HeCoUlzhfWtjAfM1acR</td>\n",
       "      <td>Stromae</td>\n",
       "      <td>spotify:album:4WW3ME0M2dUoAK5hmbXsN7</td>\n",
       "      <td>racine carrée</td>\n",
       "      <td>175426</td>\n",
       "    </tr>\n",
       "    <tr>\n",
       "      <th>4</th>\n",
       "      <td>spotify:track:3pCN6X0566rmU6P5ZgFIYu</td>\n",
       "      <td>bâtard</td>\n",
       "      <td>spotify:artist:5j4HeCoUlzhfWtjAfM1acR</td>\n",
       "      <td>Stromae</td>\n",
       "      <td>spotify:album:4WW3ME0M2dUoAK5hmbXsN7</td>\n",
       "      <td>racine carrée</td>\n",
       "      <td>208826</td>\n",
       "    </tr>\n",
       "  </tbody>\n",
       "</table>\n",
       "</div>"
      ],
      "text/plain": [
       "                              track_uri    track_name  \\\n",
       "0  spotify:track:2CFGQXM3exBO8U9WGve2GY   Elle me dit   \n",
       "1  spotify:track:09TcIuH1ZO7i4vicWKoaN2     Papaoutai   \n",
       "2  spotify:track:3Uyt0WO3wOopnUBCe9BaXl  Sur ma route   \n",
       "3  spotify:track:4h95OrjKWYzVIai1EkvZbt       Ta fête   \n",
       "4  spotify:track:3pCN6X0566rmU6P5ZgFIYu        bâtard   \n",
       "\n",
       "                              artist_uri artist_name  \\\n",
       "0  spotify:artist:5MmVJVhhYKQ86izuGHzJYA        MIKA   \n",
       "1  spotify:artist:5j4HeCoUlzhfWtjAfM1acR     Stromae   \n",
       "2  spotify:artist:7lMgpN1tEBQKpRoUMKB8iw     Black M   \n",
       "3  spotify:artist:5j4HeCoUlzhfWtjAfM1acR     Stromae   \n",
       "4  spotify:artist:5j4HeCoUlzhfWtjAfM1acR     Stromae   \n",
       "\n",
       "                              album_uri                       album_name  \\\n",
       "0  spotify:album:0zY3JRYHC0rycbFUqGcRpV               The Origin Of Love   \n",
       "1  spotify:album:4WW3ME0M2dUoAK5hmbXsN7                    racine carrée   \n",
       "2  spotify:album:1D2Rs9qcENebbiDR5wk88T  Les yeux plus gros que le monde   \n",
       "3  spotify:album:4WW3ME0M2dUoAK5hmbXsN7                    racine carrée   \n",
       "4  spotify:album:4WW3ME0M2dUoAK5hmbXsN7                    racine carrée   \n",
       "\n",
       "   duration_ms  \n",
       "0       216933  \n",
       "1       232146  \n",
       "2       252573  \n",
       "3       175426  \n",
       "4       208826  "
      ]
     },
     "execution_count": 156,
     "metadata": {},
     "output_type": "execute_result"
    }
   ],
   "source": [
    "import pandas as pd\n",
    "import numpy as np\n",
    "import json\n",
    "\n",
    "# load data\n",
    "train = json.load(open('data/train.json', encoding = \"utf8\"))\n",
    "\n",
    "dev = json.load(open('data/dev.json', encoding = \"utf8\"))\n",
    "dev_trun = json.load(open('data/dev_trun.json', encoding=\"utf8\"))\n",
    "\n",
    "test = json.load(open('data/test.json', encoding = \"utf8\"))\n",
    "test_trun = json.load(open('data/test_trun.json', encoding = \"utf8\"))\n",
    "\n",
    "# create ratings df with training + dev for validation (equivalent to 'ratings_train' data frame in Assignment 4.1)\n",
    "rating_list = []\n",
    "only_dev_list = []\n",
    "\n",
    "seen = set()\n",
    "track_list = []\n",
    "for playlist in train['playlists']:\n",
    "    for track in playlist['tracks']:\n",
    "        rating_list.append([playlist['pid'], playlist['name'], track['track_uri'], 1.0])\n",
    "        if track['track_uri'] not in seen:\n",
    "            seen.add(track['track_uri'])\n",
    "            track_list.append([track['track_uri'], track['track_name'], track['artist_uri'], track['artist_name'], track['album_uri'], track['album_name'], track['duration_ms']])\n",
    "\n",
    "for playlist in dev_trun['playlists']:\n",
    "    for track in playlist['tracks']:\n",
    "        rating_list.append([playlist['pid'], playlist['name'], track['track_uri'], 1.0])\n",
    "        only_dev_list.append([playlist['pid'], playlist['name'], track['track_uri'], 1.0])\n",
    "        if track['track_uri'] not in seen:\n",
    "            seen.add(track['track_uri'])\n",
    "            track_list.append([track['track_uri'], track['track_name'], track['artist_uri'], track['artist_name'], track['album_uri'], track['album_name'], track['duration_ms']])\n",
    "\n",
    "ratings_train_dev = pd.DataFrame(rating_list, columns = ['pid', 'name', 'track_uri', 'rating'])\n",
    "ratings_only_dev = pd.DataFrame(only_dev_list, columns = ['pid', 'name', 'track_uri', 'rating'])\n",
    "tracks = pd.DataFrame(track_list, columns = ['track_uri', 'track_name', 'artist_uri', 'artist_name', 'album_uri', 'album_name', 'duration_ms'])\n",
    "                           \n",
    "# create ratings df for testing\n",
    "rating_list = []\n",
    "for playlist in train['playlists']:\n",
    "    for track in playlist['tracks']:\n",
    "        rating_list.append([playlist['pid'], playlist['name'], track['track_uri'], 1.0])\n",
    "for playlist in test_trun['playlists']:\n",
    "    for track in playlist['tracks']:\n",
    "        rating_list.append([playlist['pid'], playlist['name'], track['track_uri'], 1.0])\n",
    "\n",
    "ratings_train_test = pd.DataFrame(rating_list, columns = ['pid', 'name', 'track_uri', 'rating'])\n",
    "\n",
    "# holdouts ('topN' equivalent)\n",
    "dev_holdouts = {playlist['pid']:playlist['num_holdouts'] for playlist in dev['playlists']}\n",
    "test_holdouts = {playlist['pid']:playlist['num_holdouts'] for playlist in test['playlists']}\n",
    "\n",
    "#ratings_train_dev.head()\n",
    "tracks.head()\n",
    "\n",
    "# not sure if train and dev need to be combined.. train alone doesn't miss any tracks, \n",
    "# so we cannot test the model on it. Combining it with def, we can make predictions on\n",
    "# missing tracks in dev playlists. EDIT: I think combining is right. Also combining train + test. \n",
    "# Otherwise, train isn't part of the model.\n"
   ]
  },
  {
   "cell_type": "markdown",
   "metadata": {},
   "source": [
    "## Import and test recommenders"
   ]
  },
  {
   "cell_type": "code",
   "execution_count": 145,
   "metadata": {},
   "outputs": [
    {
     "name": "stdout",
     "output_type": "stream",
     "text": [
      "The autoreload extension is already loaded. To reload it, use:\n",
      "  %reload_ext autoreload\n"
     ]
    }
   ],
   "source": [
    "%load_ext autoreload\n",
    "%autoreload 2\n",
    "from Recommender_CB import ContentBasedRecommender\n",
    "from Recommender_CF_UU import UUCFRecommender\n",
    "from Recommender_MF import MFRecommender"
   ]
  },
  {
   "cell_type": "code",
   "execution_count": 146,
   "metadata": {},
   "outputs": [
    {
     "ename": "AttributeError",
     "evalue": "'DataFrame' object has no attribute 'movieId'",
     "output_type": "error",
     "traceback": [
      "\u001b[1;31m---------------------------------------------------------------------------\u001b[0m",
      "\u001b[1;31mAttributeError\u001b[0m                            Traceback (most recent call last)",
      "\u001b[1;32m<ipython-input-146-c600f641a8cd>\u001b[0m in \u001b[0;36m<module>\u001b[1;34m()\u001b[0m\n\u001b[0;32m      1\u001b[0m \u001b[1;31m## Matrix Fac.\u001b[0m\u001b[1;33m\u001b[0m\u001b[1;33m\u001b[0m\u001b[0m\n\u001b[0;32m      2\u001b[0m \u001b[0mmfr\u001b[0m \u001b[1;33m=\u001b[0m \u001b[0mMFRecommender\u001b[0m\u001b[1;33m(\u001b[0m\u001b[1;33m)\u001b[0m\u001b[1;33m\u001b[0m\u001b[0m\n\u001b[1;32m----> 3\u001b[1;33m \u001b[0mmfr\u001b[0m\u001b[1;33m.\u001b[0m\u001b[0mbuild_model\u001b[0m\u001b[1;33m(\u001b[0m\u001b[0mratings_train_dev\u001b[0m\u001b[1;33m)\u001b[0m\u001b[1;33m\u001b[0m\u001b[0m\n\u001b[0m\u001b[0;32m      4\u001b[0m \u001b[1;33m\u001b[0m\u001b[0m\n\u001b[0;32m      5\u001b[0m \u001b[0mrecs\u001b[0m \u001b[1;33m=\u001b[0m \u001b[0mmfr\u001b[0m\u001b[1;33m.\u001b[0m\u001b[0mrecommend\u001b[0m\u001b[1;33m(\u001b[0m\u001b[1;34m'498917'\u001b[0m\u001b[1;33m,\u001b[0m \u001b[0mtopN\u001b[0m \u001b[1;33m=\u001b[0m \u001b[0mholdouts\u001b[0m\u001b[1;33m[\u001b[0m\u001b[1;34m'498917'\u001b[0m\u001b[1;33m]\u001b[0m\u001b[1;33m)\u001b[0m\u001b[1;33m\u001b[0m\u001b[0m\n",
      "\u001b[1;32mD:\\STUDIUM\\6.Semester\\RECSYS\\Challenge\\Spotify_RecSysChallenge2018\\Recommender_MF.py\u001b[0m in \u001b[0;36mbuild_model\u001b[1;34m(self, ratings_train, movies)\u001b[0m\n\u001b[0;32m    293\u001b[0m     \u001b[1;32mdef\u001b[0m \u001b[0mbuild_model\u001b[0m\u001b[1;33m(\u001b[0m\u001b[0mself\u001b[0m\u001b[1;33m,\u001b[0m \u001b[0mratings_train\u001b[0m\u001b[1;33m,\u001b[0m \u001b[0mmovies\u001b[0m \u001b[1;33m=\u001b[0m \u001b[1;32mNone\u001b[0m\u001b[1;33m)\u001b[0m\u001b[1;33m:\u001b[0m\u001b[1;33m\u001b[0m\u001b[0m\n\u001b[0;32m    294\u001b[0m         \u001b[0mself\u001b[0m\u001b[1;33m.\u001b[0m\u001b[0mratings_train\u001b[0m \u001b[1;33m=\u001b[0m \u001b[0mratings_train\u001b[0m\u001b[1;33m\u001b[0m\u001b[0m\n\u001b[1;32m--> 295\u001b[1;33m         \u001b[0mself\u001b[0m\u001b[1;33m.\u001b[0m\u001b[0mcreate_Ratings_Matrix\u001b[0m\u001b[1;33m(\u001b[0m\u001b[1;33m)\u001b[0m\u001b[1;33m\u001b[0m\u001b[0m\n\u001b[0m\u001b[0;32m    296\u001b[0m \u001b[1;33m\u001b[0m\u001b[0m\n\u001b[0;32m    297\u001b[0m         \u001b[0mX\u001b[0m\u001b[1;33m,\u001b[0m \u001b[0my\u001b[0m\u001b[1;33m,\u001b[0m \u001b[0mn_users\u001b[0m\u001b[1;33m,\u001b[0m \u001b[0mn_items\u001b[0m \u001b[1;33m=\u001b[0m \u001b[0mto_Xy_format\u001b[0m\u001b[1;33m(\u001b[0m\u001b[0mself\u001b[0m\u001b[1;33m.\u001b[0m\u001b[0mR\u001b[0m\u001b[1;33m)\u001b[0m\u001b[1;33m\u001b[0m\u001b[0m\n",
      "\u001b[1;32mD:\\STUDIUM\\6.Semester\\RECSYS\\Challenge\\Spotify_RecSysChallenge2018\\Recommender_MF.py\u001b[0m in \u001b[0;36mcreate_Ratings_Matrix\u001b[1;34m(self)\u001b[0m\n\u001b[0;32m     68\u001b[0m     \u001b[1;32mdef\u001b[0m \u001b[0mcreate_Ratings_Matrix\u001b[0m\u001b[1;33m(\u001b[0m\u001b[0mself\u001b[0m\u001b[1;33m)\u001b[0m\u001b[1;33m:\u001b[0m\u001b[1;33m\u001b[0m\u001b[0m\n\u001b[0;32m     69\u001b[0m \u001b[1;33m\u001b[0m\u001b[0m\n\u001b[1;32m---> 70\u001b[1;33m         \u001b[0mself\u001b[0m\u001b[1;33m.\u001b[0m\u001b[0mmovieIds\u001b[0m \u001b[1;33m=\u001b[0m \u001b[0mself\u001b[0m\u001b[1;33m.\u001b[0m\u001b[0mratings_train\u001b[0m\u001b[1;33m.\u001b[0m\u001b[0mmovieId\u001b[0m\u001b[1;33m.\u001b[0m\u001b[0munique\u001b[0m\u001b[1;33m(\u001b[0m\u001b[1;33m)\u001b[0m\u001b[1;33m\u001b[0m\u001b[0m\n\u001b[0m\u001b[0;32m     71\u001b[0m         \u001b[0mself\u001b[0m\u001b[1;33m.\u001b[0m\u001b[0mmovieIds\u001b[0m\u001b[1;33m.\u001b[0m\u001b[0msort\u001b[0m\u001b[1;33m(\u001b[0m\u001b[1;33m)\u001b[0m\u001b[1;33m\u001b[0m\u001b[0m\n\u001b[0;32m     72\u001b[0m         \u001b[0mself\u001b[0m\u001b[1;33m.\u001b[0m\u001b[0muserIds\u001b[0m \u001b[1;33m=\u001b[0m \u001b[0mself\u001b[0m\u001b[1;33m.\u001b[0m\u001b[0mratings_train\u001b[0m\u001b[1;33m.\u001b[0m\u001b[0muserId\u001b[0m\u001b[1;33m.\u001b[0m\u001b[0munique\u001b[0m\u001b[1;33m(\u001b[0m\u001b[1;33m)\u001b[0m\u001b[1;33m\u001b[0m\u001b[0m\n",
      "\u001b[1;32mD:\\Program_Files\\Anaconda3\\lib\\site-packages\\pandas\\core\\generic.py\u001b[0m in \u001b[0;36m__getattr__\u001b[1;34m(self, name)\u001b[0m\n\u001b[0;32m   3612\u001b[0m             \u001b[1;32mif\u001b[0m \u001b[0mname\u001b[0m \u001b[1;32min\u001b[0m \u001b[0mself\u001b[0m\u001b[1;33m.\u001b[0m\u001b[0m_info_axis\u001b[0m\u001b[1;33m:\u001b[0m\u001b[1;33m\u001b[0m\u001b[0m\n\u001b[0;32m   3613\u001b[0m                 \u001b[1;32mreturn\u001b[0m \u001b[0mself\u001b[0m\u001b[1;33m[\u001b[0m\u001b[0mname\u001b[0m\u001b[1;33m]\u001b[0m\u001b[1;33m\u001b[0m\u001b[0m\n\u001b[1;32m-> 3614\u001b[1;33m             \u001b[1;32mreturn\u001b[0m \u001b[0mobject\u001b[0m\u001b[1;33m.\u001b[0m\u001b[0m__getattribute__\u001b[0m\u001b[1;33m(\u001b[0m\u001b[0mself\u001b[0m\u001b[1;33m,\u001b[0m \u001b[0mname\u001b[0m\u001b[1;33m)\u001b[0m\u001b[1;33m\u001b[0m\u001b[0m\n\u001b[0m\u001b[0;32m   3615\u001b[0m \u001b[1;33m\u001b[0m\u001b[0m\n\u001b[0;32m   3616\u001b[0m     \u001b[1;32mdef\u001b[0m \u001b[0m__setattr__\u001b[0m\u001b[1;33m(\u001b[0m\u001b[0mself\u001b[0m\u001b[1;33m,\u001b[0m \u001b[0mname\u001b[0m\u001b[1;33m,\u001b[0m \u001b[0mvalue\u001b[0m\u001b[1;33m)\u001b[0m\u001b[1;33m:\u001b[0m\u001b[1;33m\u001b[0m\u001b[0m\n",
      "\u001b[1;31mAttributeError\u001b[0m: 'DataFrame' object has no attribute 'movieId'"
     ]
    }
   ],
   "source": [
    "## Matrix Fac.\n",
    "mfr = MFRecommender()\n",
    "mfr.build_model(ratings_train_dev)\n",
    "\n",
    "recs = mfr.recommend('498917', topN = holdouts['498917'])\n",
    "print(recs)\n",
    "\n",
    "\n",
    "## UU-CB\n",
    "uucf = UUCFRecommender()\n",
    "uucf.build_model(ratings_train_dev)\n",
    "\n",
    "recs = uucf.recommend('498917', topN = holdouts['498917'])\n",
    "print(recs)"
   ]
  },
  {
   "cell_type": "code",
   "execution_count": 166,
   "metadata": {},
   "outputs": [
    {
     "name": "stdout",
     "output_type": "stream",
     "text": [
      "ok\n",
      "ok playlist profiles\n"
     ]
    }
   ],
   "source": [
    "## Content-based \n",
    "br = ContentBasedRecommender('extended')\n",
    "cbr.build_model(ratings_only_dev, tracks)\n",
    "#br.build_model(ratings_train_dev, tracks)"
   ]
  },
  {
   "cell_type": "code",
   "execution_count": 167,
   "metadata": {},
   "outputs": [
    {
     "name": "stdout",
     "output_type": "stream",
     "text": [
      "['spotify:track:30lgD1UuHczwlxa7NZFeSQ', 'spotify:track:0pBLfQ5JBjh12H6DGZjMwM', 'spotify:track:7pJgjBf82BrUQ3z7HdQvW1', 'spotify:track:29DwxnpFOLlm1fKZOitwAA', 'spotify:track:3CJvmtWw2bJsudbAC5uCQk', 'spotify:track:3viZcRlE38APncWJ5VGM4q', 'spotify:track:3IMXLQk09YmvNb2tdT4aWk', 'spotify:track:5U2m76qAMdr3gXI0g6ptlG', 'spotify:track:3LuJPqTyPuVfm9VemXTWHo', 'spotify:track:6ZANrVuAMp2rpjhfbOuJly', 'spotify:track:37IToWWYUc9nuH3ijz4tqV', 'spotify:track:4dzOxPZFYX77xpMwv4EhnO', 'spotify:track:1lbWbnWiEbAya5FlCzfsrq', 'spotify:track:4hAhyE1iL07EIUJnqw2bsV', 'spotify:track:57nNNkgk768QVXq3uHxu5e', 'spotify:track:21zv5Hi0SQSvLyaKPiKreg', 'spotify:track:2E26jtkc5BONr50yOwyupV', 'spotify:track:5P3yUXUC9rZPJPNmYGKEAz', 'spotify:track:3CRDbSIZ4r5MsZ0YwxuEkn', 'spotify:track:4Oyl6oYSNeeZZP0OAxPVaU', 'spotify:track:22OqansuvEMQu9W0EfiGTI', 'spotify:track:40sRwFjfrRnaTdYPJIg4CP', 'spotify:track:5cbpoIu3YjoOwbBDGUEp3P', 'spotify:track:4WUduEPZZG6wiE9B5IklnY', 'spotify:track:57yL3161hUMuw06zzzUCHi', 'spotify:track:7i9763l5SSfOnqZ35VOcfy', 'spotify:track:7qxjGHW485TL8ciwkHD5MK', 'spotify:track:6GmkJJMe9U1tEcrJ3Hq3A1', 'spotify:track:1AfYo6cKm3yHsJHdmNoGO1', 'spotify:track:07jUylEMp4LBOWZagde8tF', 'spotify:track:2gdtLnVGGg80Kj9GiqP0vH', 'spotify:track:0elH6ukMGLyCHJavHutEza', 'spotify:track:5Nhsc59aScz67qNXA0y9Mn', 'spotify:track:3Syg4GwsW6yFeTbZUqWvYS', 'spotify:track:4k7x3QKrc3h3U0Viqk0uop', 'spotify:track:3t4dCm7bHSGzl2xigMaN1Y', 'spotify:track:5RrvFQAszVYKfIho9MRdTT', 'spotify:track:1JqInwYzD5BNmTUkn8KxS0', 'spotify:track:1KZjU7csKHOLRiRPBWZIJS', 'spotify:track:6MnvGdPsWirvlY5Xw4lUe5', 'spotify:track:6FnuMo55jNECTDdS1nD5H0', 'spotify:track:50NZKlQPUvBKSglzn2fXaE', 'spotify:track:0GRvnYqlnh7ttq9NS6s3Ta', 'spotify:track:01deB0ddwn6std1UhPbNtu', 'spotify:track:5Of0Nfc8NjKzrOJW8NQo2R', 'spotify:track:1qGPpVGFTjZnKy5VoMd5ra', 'spotify:track:4nOmG5m6MANbwO384JtvQu', 'spotify:track:1JYxknR4T9m3LLlDXY04I2', 'spotify:track:4S1bYWrLOC8smuy8kJzxKQ', 'spotify:track:3OK8WgNRmp4F3ahXe6XX6l', 'spotify:track:2VspVkHity8i4H9jammhhR']\n"
     ]
    }
   ],
   "source": [
    "cb_recs = cbr.recommend(498917, topN = dev_holdouts.get(498917))\n",
    "print(cb_recs)"
   ]
  },
  {
   "cell_type": "markdown",
   "metadata": {},
   "source": [
    "## Parameter tuning\n",
    "Parameters are tuned through evaluating performance of different parameter settings on the train+dev (?) set. Those settings will be used for the test set."
   ]
  },
  {
   "cell_type": "code",
   "execution_count": 175,
   "metadata": {},
   "outputs": [
    {
     "name": "stdout",
     "output_type": "stream",
     "text": [
      "('498797', 'spotify:track:2cSXotAohYx0EWCNljCzs7', 'spotify:track:0lPXFrKyl8HkdQ2E6NmNja', 'spotify:track:0dReCfBuhZmrqMv4WBc8od', 'spotify:track:5828oiHxe6DSSAuIrPSeVT', 'spotify:track:6dhnmkbc9Z7pGsUyUgZKGX', 'spotify:track:62qI8m0sXpzlSjYYx0nZ83', 'spotify:track:2DAsLftcRKP3iarCPmI1RY', 'spotify:track:6UwB2R8I5LoUmmYc0mphdl', 'spotify:track:3C9fAn3IgajBTwR274huch', 'spotify:track:79gkHjNTSyGPXEyGkNQ8zH', 'spotify:track:0gdXjabcDhUeitLTzxxPFd', 'spotify:track:0qO4GfXADY9QfgcgtrasT9', 'spotify:track:0IDyf9eri6YrUs4yeQfCZZ', 'spotify:track:1EZypwk0xcj64ZLAglhLs2', 'spotify:track:7CX6W4Mf98wMgX0izqRpAl', 'spotify:track:22seP38foydqUMp5Fvkcjm', 'spotify:track:7Fk4GdWusuxSDabJKzyzbt', 'spotify:track:5dMzxEVxEWRJysu2dOYEzR', 'spotify:track:68RvCYDKtz9HR1WMR9D9VV', 'spotify:track:5Z8lZ3FhHDMF85kZXXGhFZ', 'spotify:track:4B1sb2YVO03sBmyR8bvzEB', 'spotify:track:4AQZNgdG73f2ZdC6VUZqBL', 'spotify:track:5QkhJ1APhxew8pYaj1TXaN', 'spotify:track:52FjcsfkCImlf6HSN83udR', 'spotify:track:15Hx1oi6C3AxYhhvolqrJG', 'spotify:track:21dRYnljbCzQutMkWJosGU', 'spotify:track:61hJK3EfAd1LDk7x5OrCTc', 'spotify:track:2VSGzQqy9nqJefcYGJNWst', 'spotify:track:1rkShcWHAr6wvjxyYhXYKj', 'spotify:track:1I1DRPWM8iIYEbsuGMbaR3', 'spotify:track:2neWsabATpEgR8XBv4Hqwo', 'spotify:track:7q5wl8tkCmzcyoDc6BVTLX', 'spotify:track:3ljr9ATeLs2BY9gNp7vm62', 'spotify:track:2gxSaoTORdXmNLUpsNFbQk', 'spotify:track:7BCer0V0I1CZDI6S6kYD44', 'spotify:track:26aH2Io0AU0LWgB12Pcvmo', 'spotify:track:100Tm6z29RfHTdUQ6NIs0s', 'spotify:track:2n1owdcfYVz6n5Td7aNb20', 'spotify:track:1iRvhKiXRElIH2Uf4gd95P', 'spotify:track:0ZtcWOJ5uiMxQCTP3RovTz', 'spotify:track:4QubLlsaYXoQH3CxGxuTry', 'spotify:track:6pZmdSXGVzlYG2FJvSOZod', 'spotify:track:72AC5xnRC0X3xZNKuYVA0C', 'spotify:track:4h9WxkuyzScrrPiK9nYtah', 'spotify:track:7u5wdRqlAC4qeRp47e7hce', 'spotify:track:2YSeI71gO0UY1k1Gx2ZvlH', 'spotify:track:3pjbCnjqhG8YuO7REJax7D')\n",
      "0.0\n"
     ]
    }
   ],
   "source": [
    "import metrics\n",
    "infile = 'data/dev_gt.txt'\n",
    "split_pits = None\n",
    "with open(infile, 'rt') as f_i:\n",
    "    split_pits = [z.strip(' ()') for z in f_i.read().strip().split('\\n')]\n",
    "if split_pits:\n",
    "    target_sets = set(tuple(z.strip()\n",
    "                 for z in tup.split(', ')) for tup in split_pits)\n",
    "\n",
    "target_set = set() #TODO: get with pid\n",
    "\n",
    "#TODO: Evaluate results:\n",
    "print(metrics.r_precision(target_set, cb_recs, dev_holdouts.get(498917)))\n",
    "    \n",
    "#TODO: Parameter tuning\n",
    "## Content-based \n",
    "cbr = ContentBasedRecommender('extended')"
   ]
  },
  {
   "cell_type": "markdown",
   "metadata": {},
   "source": [
    "## Evaluation on test set "
   ]
  },
  {
   "cell_type": "code",
   "execution_count": 163,
   "metadata": {},
   "outputs": [
    {
     "data": {
      "text/plain": [
       "0.0"
      ]
     },
     "execution_count": 163,
     "metadata": {},
     "output_type": "execute_result"
    }
   ],
   "source": [
    "import metrics\n",
    "infile = 'data/test_gt.txt'\n",
    "split_pits = None\n",
    "with open(infile, 'rt') as f_i:\n",
    "    split_pits = [z.strip(' ()') for z in f_i.read().strip().split('\\n')]\n",
    "if split_pits:\n",
    "    target_set = set(tuple(z.strip()\n",
    "                 for z in tup.split(', ')) for tup in split_pits)\n",
    "\n",
    "\n",
    "\n",
    "#TODO: evaluation on test set\n",
    "\n",
    "\n",
    "# Content-based\n",
    "#cbr.build_model(ratings_train_test, tracks)\n",
    "#recs = cbr.recommend(498917, topN = test_holdouts.get(498917))\n",
    "metrics.r_precision(target_set, recs)"
   ]
  },
  {
   "cell_type": "code",
   "execution_count": null,
   "metadata": {},
   "outputs": [],
   "source": []
  }
 ],
 "metadata": {
  "kernelspec": {
   "display_name": "Python 3",
   "language": "python",
   "name": "python3"
  },
  "language_info": {
   "codemirror_mode": {
    "name": "ipython",
    "version": 3
   },
   "file_extension": ".py",
   "mimetype": "text/x-python",
   "name": "python",
   "nbconvert_exporter": "python",
   "pygments_lexer": "ipython3",
   "version": "3.6.4"
  }
 },
 "nbformat": 4,
 "nbformat_minor": 2
}
