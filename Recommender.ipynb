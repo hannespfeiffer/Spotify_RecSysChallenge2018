{
 "cells": [
  {
   "cell_type": "markdown",
   "metadata": {},
   "source": [
    "## Import and format json data\n",
    "Importing playlists from jsons and formatting them into ratings data frame. (Get data from https://owncloud.tuwien.ac.at/index.php/s/A8Wx2TpFr0WznZh)"
   ]
  },
  {
   "cell_type": "code",
   "execution_count": null,
   "metadata": {},
   "outputs": [],
   "source": [
    "import pandas as pd\n",
    "import numpy as np\n",
    "import json\n",
    "\n",
    "# load data\n",
    "train = json.load(open('data/train.json', encoding = \"utf8\"))\n",
    "\n",
    "dev = json.load(open('data/dev.json', encoding = \"utf8\"))\n",
    "dev_trun = json.load(open('data/dev_trun.json', encoding=\"utf8\"))\n",
    "\n",
    "test = json.load(open('data/test.json', encoding = \"utf8\"))\n",
    "test_trun = json.load(open('data/test_trun.json', encoding = \"utf8\"))\n",
    "\n",
    "# create ratings df with training + dev for validation (equivalent to 'ratings_train' data frame in Assignment 4.1)\n",
    "rating_list = []\n",
    "for playlist in train['playlists']:\n",
    "    for track in playlist['tracks']:\n",
    "        rating_list.append([playlist['pid'], track['track_uri'], 1.0])\n",
    "for playlist in dev_trun['playlists']:\n",
    "    for track in playlist['tracks']:\n",
    "        rating_list.append([playlist['pid'], track['track_uri'], 1.0])\n",
    "\n",
    "ratings_train_dev = pd.DataFrame(rating_list, columns = ['pid', 'track_uri', 'rating'])\n",
    "\n",
    "# create ratings df for testing\n",
    "rating_list = []\n",
    "for playlist in train['playlists']:\n",
    "    for track in playlist['tracks']:\n",
    "        rating_list.append([playlist['pid'], track['track_uri'], 1.0])\n",
    "for playlist in test_trun['playlists']:\n",
    "    for track in playlist['tracks']:\n",
    "        rating_list.append([playlist['pid'], track['track_uri'], 1.0])\n",
    "\n",
    "ratings_train_test = pd.DataFrame(rating_list, columns = ['pid', 'track_uri', 'rating'])\n",
    "\n",
    "\n",
    "ratings_train_dev.head()\n",
    "\n",
    "# not sure if train and dev need to be combined.. train alone doesn't miss any tracks, \n",
    "# so we cannot test the model on it. Combining it with def, we can make predictions on\n",
    "# missing tracks in dev playlists. Alternative would be to use dev alone (like we'll use\n",
    "# test alone I guess). But then the train set would be useless. I'm too tired to think it \n",
    "# through :S \n"
   ]
  },
  {
   "cell_type": "markdown",
   "metadata": {},
   "source": [
    "## Import and test recommenders"
   ]
  },
  {
   "cell_type": "code",
   "execution_count": null,
   "metadata": {},
   "outputs": [],
   "source": [
    "%load_ext autoreload\n",
    "%autoreload 2\n",
    "from Recommender_CB import ContentBasedRecommender\n",
    "from Recommender_CF_UU import UUCFRecommender\n",
    "from Recommender_MF import MFRecommender\n",
    "\n",
    "\n",
    "## Content-based \n",
    "song_data = [] \n",
    "# TODO: ^ needs to be defined (from slides: one idea is to define the content of a track as the names of\n",
    "# all playlists that contain it)\n",
    "\n",
    "cbr = ContentBasedRecommender('extended')\n",
    "cbr.build_model(ratings_train_dev, song_data) # TODO: throws exception, of course. CB class needs to be adapted\n",
    "\n",
    "holdouts = 0 # TODO: to be taken from dev ('num_holdouts'). Potential problem: Holdouts may not be unique\n",
    "recs = cbr.recommend('498917', topN = holdouts)\n",
    "print(recs)\n",
    "\n",
    "\n",
    "## UU-CB\n",
    "uucf = UUCFRecommender()\n",
    "uucf.build_model(ratings_train_dev)\n",
    "\n",
    "recs = uucf.recommend('498917', topN = holdouts)\n",
    "print(recs)\n",
    "\n",
    "\n",
    "## Matrix Fac.\n",
    "mfr = MFRecommender()\n",
    "mfr.build_model(ratings_train_dev)\n",
    "\n",
    "recs = mfr.recommend('498917', topN = holdouts)\n",
    "print(recs)"
   ]
  },
  {
   "cell_type": "markdown",
   "metadata": {},
   "source": [
    "## Parameter tuning\n",
    "Parameters are tuned through evaluating performance of different parameter settings on the train+dev (?) set. Those settings will be used for the test set."
   ]
  },
  {
   "cell_type": "code",
   "execution_count": null,
   "metadata": {},
   "outputs": [],
   "source": [
    "import metrics\n",
    "\n",
    "#TODO: Parameter tuning"
   ]
  },
  {
   "cell_type": "markdown",
   "metadata": {},
   "source": [
    "## Evaluation on test set "
   ]
  },
  {
   "cell_type": "code",
   "execution_count": null,
   "metadata": {},
   "outputs": [],
   "source": [
    "import metrics\n",
    "\n",
    "#TODO: evaluation on test set"
   ]
  }
 ],
 "metadata": {
  "kernelspec": {
   "display_name": "Python 3",
   "language": "python",
   "name": "python3"
  },
  "language_info": {
   "codemirror_mode": {
    "name": "ipython",
    "version": 3
   },
   "file_extension": ".py",
   "mimetype": "text/x-python",
   "name": "python",
   "nbconvert_exporter": "python",
   "pygments_lexer": "ipython3",
   "version": "3.6.4"
  }
 },
 "nbformat": 4,
 "nbformat_minor": 2
}
