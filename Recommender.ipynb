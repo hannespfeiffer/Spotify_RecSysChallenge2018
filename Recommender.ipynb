{
 "cells": [
  {
   "cell_type": "markdown",
   "metadata": {},
   "source": [
    "## Import and format json data\n",
    "Importing playlists from jsons and formatting them into ratings data frame. (Get data from https://owncloud.tuwien.ac.at/index.php/s/A8Wx2TpFr0WznZh)"
   ]
  },
  {
   "cell_type": "code",
   "execution_count": 57,
   "metadata": {
    "scrolled": true
   },
   "outputs": [
    {
     "data": {
      "text/html": [
       "<div>\n",
       "<style scoped>\n",
       "    .dataframe tbody tr th:only-of-type {\n",
       "        vertical-align: middle;\n",
       "    }\n",
       "\n",
       "    .dataframe tbody tr th {\n",
       "        vertical-align: top;\n",
       "    }\n",
       "\n",
       "    .dataframe thead th {\n",
       "        text-align: right;\n",
       "    }\n",
       "</style>\n",
       "<table border=\"1\" class=\"dataframe\">\n",
       "  <thead>\n",
       "    <tr style=\"text-align: right;\">\n",
       "      <th></th>\n",
       "      <th>track_uri</th>\n",
       "      <th>track_name</th>\n",
       "      <th>artist_uri</th>\n",
       "      <th>artist_name</th>\n",
       "      <th>album_uri</th>\n",
       "      <th>album_name</th>\n",
       "      <th>duration_ms</th>\n",
       "    </tr>\n",
       "  </thead>\n",
       "  <tbody>\n",
       "    <tr>\n",
       "      <th>0</th>\n",
       "      <td>spotify:track:1kgLlA9D73mZ7XtjLP7Kzu</td>\n",
       "      <td>Admission To Your Party</td>\n",
       "      <td>spotify:artist:4iiQabGKtS2RtTKpVkrVTw</td>\n",
       "      <td>Smallpools</td>\n",
       "      <td>spotify:album:59xqFRG2IgFTsZtQ73yIp6</td>\n",
       "      <td>LOVETAP!</td>\n",
       "      <td>178266</td>\n",
       "    </tr>\n",
       "    <tr>\n",
       "      <th>1</th>\n",
       "      <td>spotify:track:2uV2tyFZ0Eex2Lsc8shIfN</td>\n",
       "      <td>Karaoke</td>\n",
       "      <td>spotify:artist:4iiQabGKtS2RtTKpVkrVTw</td>\n",
       "      <td>Smallpools</td>\n",
       "      <td>spotify:album:59xqFRG2IgFTsZtQ73yIp6</td>\n",
       "      <td>LOVETAP!</td>\n",
       "      <td>209933</td>\n",
       "    </tr>\n",
       "    <tr>\n",
       "      <th>2</th>\n",
       "      <td>spotify:track:2Z8WuEywRWYTKe1NybPQEW</td>\n",
       "      <td>Ride</td>\n",
       "      <td>spotify:artist:3YQKmKGau1PzlVlkL1iodx</td>\n",
       "      <td>Twenty One Pilots</td>\n",
       "      <td>spotify:album:3cQO7jp5S9qLBoIVtbkSM1</td>\n",
       "      <td>Blurryface</td>\n",
       "      <td>214506</td>\n",
       "    </tr>\n",
       "    <tr>\n",
       "      <th>3</th>\n",
       "      <td>spotify:track:3E2Zh20GDCR9B1EYjfXWyv</td>\n",
       "      <td>Weak</td>\n",
       "      <td>spotify:artist:6s22t5Y3prQHyaHWUN1R1C</td>\n",
       "      <td>AJR</td>\n",
       "      <td>spotify:album:7LACXphpLTluKLFqHIZ1Qq</td>\n",
       "      <td>The Click</td>\n",
       "      <td>201160</td>\n",
       "    </tr>\n",
       "    <tr>\n",
       "      <th>4</th>\n",
       "      <td>spotify:track:7KxhSJOYiqCDclXDBNlFSZ</td>\n",
       "      <td>Kill Em With Kindness</td>\n",
       "      <td>spotify:artist:0C8ZW7ezQVs4URX5aX7Kqx</td>\n",
       "      <td>Selena Gomez</td>\n",
       "      <td>spotify:album:3Kbuu2tHsIbplFUkB7a5oE</td>\n",
       "      <td>Revival</td>\n",
       "      <td>217906</td>\n",
       "    </tr>\n",
       "  </tbody>\n",
       "</table>\n",
       "</div>"
      ],
      "text/plain": [
       "                              track_uri               track_name  \\\n",
       "0  spotify:track:1kgLlA9D73mZ7XtjLP7Kzu  Admission To Your Party   \n",
       "1  spotify:track:2uV2tyFZ0Eex2Lsc8shIfN                  Karaoke   \n",
       "2  spotify:track:2Z8WuEywRWYTKe1NybPQEW                     Ride   \n",
       "3  spotify:track:3E2Zh20GDCR9B1EYjfXWyv                     Weak   \n",
       "4  spotify:track:7KxhSJOYiqCDclXDBNlFSZ    Kill Em With Kindness   \n",
       "\n",
       "                              artist_uri        artist_name  \\\n",
       "0  spotify:artist:4iiQabGKtS2RtTKpVkrVTw         Smallpools   \n",
       "1  spotify:artist:4iiQabGKtS2RtTKpVkrVTw         Smallpools   \n",
       "2  spotify:artist:3YQKmKGau1PzlVlkL1iodx  Twenty One Pilots   \n",
       "3  spotify:artist:6s22t5Y3prQHyaHWUN1R1C                AJR   \n",
       "4  spotify:artist:0C8ZW7ezQVs4URX5aX7Kqx       Selena Gomez   \n",
       "\n",
       "                              album_uri  album_name  duration_ms  \n",
       "0  spotify:album:59xqFRG2IgFTsZtQ73yIp6    LOVETAP!       178266  \n",
       "1  spotify:album:59xqFRG2IgFTsZtQ73yIp6    LOVETAP!       209933  \n",
       "2  spotify:album:3cQO7jp5S9qLBoIVtbkSM1  Blurryface       214506  \n",
       "3  spotify:album:7LACXphpLTluKLFqHIZ1Qq   The Click       201160  \n",
       "4  spotify:album:3Kbuu2tHsIbplFUkB7a5oE     Revival       217906  "
      ]
     },
     "execution_count": 57,
     "metadata": {},
     "output_type": "execute_result"
    }
   ],
   "source": [
    "import pandas as pd\n",
    "import numpy as np\n",
    "import json\n",
    "\n",
    "# load data\n",
    "train = json.load(open('data/train.json', encoding = \"utf8\"))\n",
    "\n",
    "dev = json.load(open('data/dev.json', encoding = \"utf8\"))\n",
    "dev_trun = json.load(open('data/dev_trun.json', encoding=\"utf8\"))\n",
    "\n",
    "test = json.load(open('data/test.json', encoding = \"utf8\"))\n",
    "test_trun = json.load(open('data/test_trun.json', encoding = \"utf8\"))\n",
    "\n",
    "# create ratings df with training + dev for validation (equivalent to 'ratings_train' data frame in Assignment 4.1)\n",
    "rating_list = []\n",
    "only_dev_list = []\n",
    "\n",
    "seen = set()\n",
    "track_list = []\n",
    "for playlist in train['playlists']:\n",
    "    for track in playlist['tracks']:\n",
    "        rating_list.append([playlist['pid'], playlist['name'], track['track_uri'], 1.0])\n",
    "        #if track['track_uri'] not in seen:\n",
    "        #    seen.add(track['track_uri'])\n",
    "        #    track_list.append([track['track_uri'], track['track_name'], track['artist_uri'], track['artist_name'], track['album_uri'], track['album_name'], track['duration_ms']])\n",
    "\n",
    "for playlist in dev_trun['playlists']:\n",
    "    for track in playlist['tracks']:\n",
    "        rating_list.append([playlist['pid'], playlist['name'], track['track_uri'], 1.0])\n",
    "        only_dev_list.append([playlist['pid'], playlist['name'], track['track_uri'], 1.0])\n",
    "        if track['track_uri'] not in seen:\n",
    "            seen.add(track['track_uri'])\n",
    "            track_list.append([track['track_uri'], track['track_name'], track['artist_uri'], track['artist_name'], track['album_uri'], track['album_name'], track['duration_ms']])\n",
    "\n",
    "ratings_train_dev = pd.DataFrame(rating_list, columns = ['pid', 'name', 'track_uri', 'rating'])\n",
    "ratings_only_dev = pd.DataFrame(only_dev_list, columns = ['pid', 'name', 'track_uri', 'rating'])\n",
    "tracks = pd.DataFrame(track_list, columns = ['track_uri', 'track_name', 'artist_uri', 'artist_name', 'album_uri', 'album_name', 'duration_ms'])\n",
    "\n",
    "# create ratings df for testing\n",
    "rating_list = []\n",
    "for playlist in train['playlists']:\n",
    "    for track in playlist['tracks']:\n",
    "        rating_list.append([playlist['pid'], playlist['name'], track['track_uri'], 1.0])\n",
    "for playlist in test_trun['playlists']:\n",
    "    for track in playlist['tracks']:\n",
    "        rating_list.append([playlist['pid'], playlist['name'], track['track_uri'], 1.0])\n",
    "\n",
    "ratings_train_test = pd.DataFrame(rating_list, columns = ['pid', 'name', 'track_uri', 'rating'])\n",
    "\n",
    "# holdouts ('topN' equivalent)\n",
    "dev_holdouts = {playlist['pid']:playlist['num_holdouts'] for playlist in dev['playlists']}\n",
    "test_holdouts = {playlist['pid']:playlist['num_holdouts'] for playlist in test['playlists']}\n",
    "\n",
    "#ratings_train_dev.head()\n",
    "tracks.head()\n",
    "\n",
    "# not sure if train and dev need to be combined.. train alone doesn't miss any tracks, \n",
    "# so we cannot test the model on it. Combining it with def, we can make predictions on\n",
    "# missing tracks in dev playlists. EDIT: I think combining is right. Also combining train + test. \n",
    "# Otherwise, train isn't part of the model.\n"
   ]
  },
  {
   "cell_type": "markdown",
   "metadata": {},
   "source": [
    "### Add playlist information to the tracks DataFrame"
   ]
  },
  {
   "cell_type": "code",
   "execution_count": 58,
   "metadata": {},
   "outputs": [],
   "source": [
    "ratings_train = ratings_only_dev\n",
    "#ratings_train = ratings_train_dev"
   ]
  },
  {
   "cell_type": "code",
   "execution_count": 76,
   "metadata": {},
   "outputs": [
    {
     "data": {
      "text/html": [
       "<div>\n",
       "<style scoped>\n",
       "    .dataframe tbody tr th:only-of-type {\n",
       "        vertical-align: middle;\n",
       "    }\n",
       "\n",
       "    .dataframe tbody tr th {\n",
       "        vertical-align: top;\n",
       "    }\n",
       "\n",
       "    .dataframe thead th {\n",
       "        text-align: right;\n",
       "    }\n",
       "</style>\n",
       "<table border=\"1\" class=\"dataframe\">\n",
       "  <thead>\n",
       "    <tr style=\"text-align: right;\">\n",
       "      <th></th>\n",
       "      <th>track_uri</th>\n",
       "      <th>track_name</th>\n",
       "      <th>artist_uri</th>\n",
       "      <th>artist_name</th>\n",
       "      <th>album_uri</th>\n",
       "      <th>album_name</th>\n",
       "      <th>duration_ms</th>\n",
       "      <th>pids</th>\n",
       "    </tr>\n",
       "  </thead>\n",
       "  <tbody>\n",
       "    <tr>\n",
       "      <th>0</th>\n",
       "      <td>spotify:track:1kgLlA9D73mZ7XtjLP7Kzu</td>\n",
       "      <td>Admission To Your Party</td>\n",
       "      <td>spotify:artist:4iiQabGKtS2RtTKpVkrVTw</td>\n",
       "      <td>Smallpools</td>\n",
       "      <td>spotify:album:59xqFRG2IgFTsZtQ73yIp6</td>\n",
       "      <td>LOVETAP!</td>\n",
       "      <td>178266</td>\n",
       "      <td>Partyy</td>\n",
       "    </tr>\n",
       "    <tr>\n",
       "      <th>1</th>\n",
       "      <td>spotify:track:2uV2tyFZ0Eex2Lsc8shIfN</td>\n",
       "      <td>Karaoke</td>\n",
       "      <td>spotify:artist:4iiQabGKtS2RtTKpVkrVTw</td>\n",
       "      <td>Smallpools</td>\n",
       "      <td>spotify:album:59xqFRG2IgFTsZtQ73yIp6</td>\n",
       "      <td>LOVETAP!</td>\n",
       "      <td>209933</td>\n",
       "      <td>Partyy</td>\n",
       "    </tr>\n",
       "    <tr>\n",
       "      <th>2</th>\n",
       "      <td>spotify:track:2Z8WuEywRWYTKe1NybPQEW</td>\n",
       "      <td>Ride</td>\n",
       "      <td>spotify:artist:3YQKmKGau1PzlVlkL1iodx</td>\n",
       "      <td>Twenty One Pilots</td>\n",
       "      <td>spotify:album:3cQO7jp5S9qLBoIVtbkSM1</td>\n",
       "      <td>Blurryface</td>\n",
       "      <td>214506</td>\n",
       "      <td>Partyy life</td>\n",
       "    </tr>\n",
       "    <tr>\n",
       "      <th>3</th>\n",
       "      <td>spotify:track:3E2Zh20GDCR9B1EYjfXWyv</td>\n",
       "      <td>Weak</td>\n",
       "      <td>spotify:artist:6s22t5Y3prQHyaHWUN1R1C</td>\n",
       "      <td>AJR</td>\n",
       "      <td>spotify:album:7LACXphpLTluKLFqHIZ1Qq</td>\n",
       "      <td>The Click</td>\n",
       "      <td>201160</td>\n",
       "      <td>Partyy</td>\n",
       "    </tr>\n",
       "    <tr>\n",
       "      <th>4</th>\n",
       "      <td>spotify:track:7KxhSJOYiqCDclXDBNlFSZ</td>\n",
       "      <td>Kill Em With Kindness</td>\n",
       "      <td>spotify:artist:0C8ZW7ezQVs4URX5aX7Kqx</td>\n",
       "      <td>Selena Gomez</td>\n",
       "      <td>spotify:album:3Kbuu2tHsIbplFUkB7a5oE</td>\n",
       "      <td>Revival</td>\n",
       "      <td>217906</td>\n",
       "      <td>Partyy PLANE</td>\n",
       "    </tr>\n",
       "  </tbody>\n",
       "</table>\n",
       "</div>"
      ],
      "text/plain": [
       "                              track_uri               track_name  \\\n",
       "0  spotify:track:1kgLlA9D73mZ7XtjLP7Kzu  Admission To Your Party   \n",
       "1  spotify:track:2uV2tyFZ0Eex2Lsc8shIfN                  Karaoke   \n",
       "2  spotify:track:2Z8WuEywRWYTKe1NybPQEW                     Ride   \n",
       "3  spotify:track:3E2Zh20GDCR9B1EYjfXWyv                     Weak   \n",
       "4  spotify:track:7KxhSJOYiqCDclXDBNlFSZ    Kill Em With Kindness   \n",
       "\n",
       "                              artist_uri        artist_name  \\\n",
       "0  spotify:artist:4iiQabGKtS2RtTKpVkrVTw         Smallpools   \n",
       "1  spotify:artist:4iiQabGKtS2RtTKpVkrVTw         Smallpools   \n",
       "2  spotify:artist:3YQKmKGau1PzlVlkL1iodx  Twenty One Pilots   \n",
       "3  spotify:artist:6s22t5Y3prQHyaHWUN1R1C                AJR   \n",
       "4  spotify:artist:0C8ZW7ezQVs4URX5aX7Kqx       Selena Gomez   \n",
       "\n",
       "                              album_uri  album_name  duration_ms          pids  \n",
       "0  spotify:album:59xqFRG2IgFTsZtQ73yIp6    LOVETAP!       178266        Partyy  \n",
       "1  spotify:album:59xqFRG2IgFTsZtQ73yIp6    LOVETAP!       209933        Partyy  \n",
       "2  spotify:album:3cQO7jp5S9qLBoIVtbkSM1  Blurryface       214506   Partyy life  \n",
       "3  spotify:album:7LACXphpLTluKLFqHIZ1Qq   The Click       201160        Partyy  \n",
       "4  spotify:album:3Kbuu2tHsIbplFUkB7a5oE     Revival       217906  Partyy PLANE  "
      ]
     },
     "execution_count": 76,
     "metadata": {},
     "output_type": "execute_result"
    }
   ],
   "source": [
    "tracks = tracks.assign(pids=pd.Series(' '))\n",
    "\n",
    "# Drop duplicates\n",
    "import collections\n",
    "track_ids = tracks['track_uri'].tolist()\n",
    "track_ids_dup = [x for  x, y in collections.Counter(track_ids).items() if y > 1]\n",
    "\n",
    "for track_id in track_ids_dup:\n",
    "    to_drop = tracks.index[tracks.track_uri == track_id].tolist()[1:]\n",
    "    tracks.drop(to_drop, inplace=True)\n",
    "\n",
    "\n",
    "for i, t in tracks.iterrows():\n",
    "    pnames_list = ratings_train.loc[ratings_train['track_uri'] == t.track_uri][['name']]['name'].tolist()\n",
    "    tracks.at[i, 'pids'] = ' '.join(pnames_list)\n",
    "\n",
    "tracks.head()    "
   ]
  },
  {
   "cell_type": "markdown",
   "metadata": {},
   "source": [
    "## Import and test recommenders"
   ]
  },
  {
   "cell_type": "code",
   "execution_count": 77,
   "metadata": {},
   "outputs": [
    {
     "name": "stdout",
     "output_type": "stream",
     "text": [
      "The autoreload extension is already loaded. To reload it, use:\n",
      "  %reload_ext autoreload\n"
     ]
    }
   ],
   "source": [
    "%load_ext autoreload\n",
    "%autoreload 2\n",
    "from Recommender_CB import ContentBasedRecommender\n",
    "from Recommender_CF_UU import UUCFRecommender\n",
    "from Recommender_MF import MFRecommender"
   ]
  },
  {
   "cell_type": "code",
   "execution_count": 3,
   "metadata": {},
   "outputs": [
    {
     "ename": "AttributeError",
     "evalue": "'DataFrame' object has no attribute 'movieId'",
     "output_type": "error",
     "traceback": [
      "\u001b[1;31m---------------------------------------------------------------------------\u001b[0m",
      "\u001b[1;31mAttributeError\u001b[0m                            Traceback (most recent call last)",
      "\u001b[1;32m<ipython-input-3-c600f641a8cd>\u001b[0m in \u001b[0;36m<module>\u001b[1;34m()\u001b[0m\n\u001b[0;32m      1\u001b[0m \u001b[1;31m## Matrix Fac.\u001b[0m\u001b[1;33m\u001b[0m\u001b[1;33m\u001b[0m\u001b[0m\n\u001b[0;32m      2\u001b[0m \u001b[0mmfr\u001b[0m \u001b[1;33m=\u001b[0m \u001b[0mMFRecommender\u001b[0m\u001b[1;33m(\u001b[0m\u001b[1;33m)\u001b[0m\u001b[1;33m\u001b[0m\u001b[0m\n\u001b[1;32m----> 3\u001b[1;33m \u001b[0mmfr\u001b[0m\u001b[1;33m.\u001b[0m\u001b[0mbuild_model\u001b[0m\u001b[1;33m(\u001b[0m\u001b[0mratings_train_dev\u001b[0m\u001b[1;33m)\u001b[0m\u001b[1;33m\u001b[0m\u001b[0m\n\u001b[0m\u001b[0;32m      4\u001b[0m \u001b[1;33m\u001b[0m\u001b[0m\n\u001b[0;32m      5\u001b[0m \u001b[0mrecs\u001b[0m \u001b[1;33m=\u001b[0m \u001b[0mmfr\u001b[0m\u001b[1;33m.\u001b[0m\u001b[0mrecommend\u001b[0m\u001b[1;33m(\u001b[0m\u001b[1;34m'498917'\u001b[0m\u001b[1;33m,\u001b[0m \u001b[0mtopN\u001b[0m \u001b[1;33m=\u001b[0m \u001b[0mholdouts\u001b[0m\u001b[1;33m[\u001b[0m\u001b[1;34m'498917'\u001b[0m\u001b[1;33m]\u001b[0m\u001b[1;33m)\u001b[0m\u001b[1;33m\u001b[0m\u001b[0m\n",
      "\u001b[1;32mD:\\STUDIUM\\6.Semester\\RECSYS\\Challenge\\Spotify_RecSysChallenge2018\\Recommender_MF.py\u001b[0m in \u001b[0;36mbuild_model\u001b[1;34m(self, ratings_train, movies)\u001b[0m\n\u001b[0;32m    293\u001b[0m     \u001b[1;32mdef\u001b[0m \u001b[0mbuild_model\u001b[0m\u001b[1;33m(\u001b[0m\u001b[0mself\u001b[0m\u001b[1;33m,\u001b[0m \u001b[0mratings_train\u001b[0m\u001b[1;33m,\u001b[0m \u001b[0mmovies\u001b[0m \u001b[1;33m=\u001b[0m \u001b[1;32mNone\u001b[0m\u001b[1;33m)\u001b[0m\u001b[1;33m:\u001b[0m\u001b[1;33m\u001b[0m\u001b[0m\n\u001b[0;32m    294\u001b[0m         \u001b[0mself\u001b[0m\u001b[1;33m.\u001b[0m\u001b[0mratings_train\u001b[0m \u001b[1;33m=\u001b[0m \u001b[0mratings_train\u001b[0m\u001b[1;33m\u001b[0m\u001b[0m\n\u001b[1;32m--> 295\u001b[1;33m         \u001b[0mself\u001b[0m\u001b[1;33m.\u001b[0m\u001b[0mcreate_Ratings_Matrix\u001b[0m\u001b[1;33m(\u001b[0m\u001b[1;33m)\u001b[0m\u001b[1;33m\u001b[0m\u001b[0m\n\u001b[0m\u001b[0;32m    296\u001b[0m \u001b[1;33m\u001b[0m\u001b[0m\n\u001b[0;32m    297\u001b[0m         \u001b[0mX\u001b[0m\u001b[1;33m,\u001b[0m \u001b[0my\u001b[0m\u001b[1;33m,\u001b[0m \u001b[0mn_users\u001b[0m\u001b[1;33m,\u001b[0m \u001b[0mn_items\u001b[0m \u001b[1;33m=\u001b[0m \u001b[0mto_Xy_format\u001b[0m\u001b[1;33m(\u001b[0m\u001b[0mself\u001b[0m\u001b[1;33m.\u001b[0m\u001b[0mR\u001b[0m\u001b[1;33m)\u001b[0m\u001b[1;33m\u001b[0m\u001b[0m\n",
      "\u001b[1;32mD:\\STUDIUM\\6.Semester\\RECSYS\\Challenge\\Spotify_RecSysChallenge2018\\Recommender_MF.py\u001b[0m in \u001b[0;36mcreate_Ratings_Matrix\u001b[1;34m(self)\u001b[0m\n\u001b[0;32m     68\u001b[0m     \u001b[1;32mdef\u001b[0m \u001b[0mcreate_Ratings_Matrix\u001b[0m\u001b[1;33m(\u001b[0m\u001b[0mself\u001b[0m\u001b[1;33m)\u001b[0m\u001b[1;33m:\u001b[0m\u001b[1;33m\u001b[0m\u001b[0m\n\u001b[0;32m     69\u001b[0m \u001b[1;33m\u001b[0m\u001b[0m\n\u001b[1;32m---> 70\u001b[1;33m         \u001b[0mself\u001b[0m\u001b[1;33m.\u001b[0m\u001b[0mmovieIds\u001b[0m \u001b[1;33m=\u001b[0m \u001b[0mself\u001b[0m\u001b[1;33m.\u001b[0m\u001b[0mratings_train\u001b[0m\u001b[1;33m.\u001b[0m\u001b[0mmovieId\u001b[0m\u001b[1;33m.\u001b[0m\u001b[0munique\u001b[0m\u001b[1;33m(\u001b[0m\u001b[1;33m)\u001b[0m\u001b[1;33m\u001b[0m\u001b[0m\n\u001b[0m\u001b[0;32m     71\u001b[0m         \u001b[0mself\u001b[0m\u001b[1;33m.\u001b[0m\u001b[0mmovieIds\u001b[0m\u001b[1;33m.\u001b[0m\u001b[0msort\u001b[0m\u001b[1;33m(\u001b[0m\u001b[1;33m)\u001b[0m\u001b[1;33m\u001b[0m\u001b[0m\n\u001b[0;32m     72\u001b[0m         \u001b[0mself\u001b[0m\u001b[1;33m.\u001b[0m\u001b[0muserIds\u001b[0m \u001b[1;33m=\u001b[0m \u001b[0mself\u001b[0m\u001b[1;33m.\u001b[0m\u001b[0mratings_train\u001b[0m\u001b[1;33m.\u001b[0m\u001b[0muserId\u001b[0m\u001b[1;33m.\u001b[0m\u001b[0munique\u001b[0m\u001b[1;33m(\u001b[0m\u001b[1;33m)\u001b[0m\u001b[1;33m\u001b[0m\u001b[0m\n",
      "\u001b[1;32mD:\\Program_Files\\Anaconda3\\lib\\site-packages\\pandas\\core\\generic.py\u001b[0m in \u001b[0;36m__getattr__\u001b[1;34m(self, name)\u001b[0m\n\u001b[0;32m   3612\u001b[0m             \u001b[1;32mif\u001b[0m \u001b[0mname\u001b[0m \u001b[1;32min\u001b[0m \u001b[0mself\u001b[0m\u001b[1;33m.\u001b[0m\u001b[0m_info_axis\u001b[0m\u001b[1;33m:\u001b[0m\u001b[1;33m\u001b[0m\u001b[0m\n\u001b[0;32m   3613\u001b[0m                 \u001b[1;32mreturn\u001b[0m \u001b[0mself\u001b[0m\u001b[1;33m[\u001b[0m\u001b[0mname\u001b[0m\u001b[1;33m]\u001b[0m\u001b[1;33m\u001b[0m\u001b[0m\n\u001b[1;32m-> 3614\u001b[1;33m             \u001b[1;32mreturn\u001b[0m \u001b[0mobject\u001b[0m\u001b[1;33m.\u001b[0m\u001b[0m__getattribute__\u001b[0m\u001b[1;33m(\u001b[0m\u001b[0mself\u001b[0m\u001b[1;33m,\u001b[0m \u001b[0mname\u001b[0m\u001b[1;33m)\u001b[0m\u001b[1;33m\u001b[0m\u001b[0m\n\u001b[0m\u001b[0;32m   3615\u001b[0m \u001b[1;33m\u001b[0m\u001b[0m\n\u001b[0;32m   3616\u001b[0m     \u001b[1;32mdef\u001b[0m \u001b[0m__setattr__\u001b[0m\u001b[1;33m(\u001b[0m\u001b[0mself\u001b[0m\u001b[1;33m,\u001b[0m \u001b[0mname\u001b[0m\u001b[1;33m,\u001b[0m \u001b[0mvalue\u001b[0m\u001b[1;33m)\u001b[0m\u001b[1;33m:\u001b[0m\u001b[1;33m\u001b[0m\u001b[0m\n",
      "\u001b[1;31mAttributeError\u001b[0m: 'DataFrame' object has no attribute 'movieId'"
     ]
    }
   ],
   "source": [
    "## Matrix Fac.\n",
    "mfr = MFRecommender()\n",
    "mfr.build_model(ratings_train_dev)\n",
    "\n",
    "recs = mfr.recommend('498917', topN = holdouts['498917'])\n",
    "print(recs)\n",
    "\n",
    "\n",
    "## UU-CB\n",
    "uucf = UUCFRecommender()\n",
    "uucf.build_model(ratings_train_dev)\n",
    "\n",
    "recs = uucf.recommend('498917', topN = holdouts['498917'])\n",
    "print(recs)"
   ]
  },
  {
   "cell_type": "code",
   "execution_count": 88,
   "metadata": {},
   "outputs": [
    {
     "name": "stdout",
     "output_type": "stream",
     "text": [
      "ok\n",
      "ok playlist profiles\n",
      "ok\n",
      "ok playlist profiles\n"
     ]
    }
   ],
   "source": [
    "## Content-based \n",
    "cbr_extended = ContentBasedRecommender('extended')\n",
    "cbr_extended.build_model(ratings_only_dev, tracks)\n",
    "#cbr_extended.build_model(ratings_train_dev, tracks)\n",
    "\n",
    "cbr_general = ContentBasedRecommender('general')\n",
    "cbr_general.build_model(ratings_only_dev, tracks)\n",
    "#cbr_extended.build_model(ratings_train_dev, tracks)"
   ]
  },
  {
   "cell_type": "code",
   "execution_count": 89,
   "metadata": {},
   "outputs": [
    {
     "name": "stdout",
     "output_type": "stream",
     "text": [
      "['spotify:track:0pBLfQ5JBjh12H6DGZjMwM', 'spotify:track:6ZANrVuAMp2rpjhfbOuJly', 'spotify:track:7pJgjBf82BrUQ3z7HdQvW1', 'spotify:track:37IToWWYUc9nuH3ijz4tqV', 'spotify:track:3CJvmtWw2bJsudbAC5uCQk', 'spotify:track:3IMXLQk09YmvNb2tdT4aWk', 'spotify:track:3viZcRlE38APncWJ5VGM4q', 'spotify:track:29DwxnpFOLlm1fKZOitwAA', 'spotify:track:3LuJPqTyPuVfm9VemXTWHo', 'spotify:track:30lgD1UuHczwlxa7NZFeSQ', 'spotify:track:5P3yUXUC9rZPJPNmYGKEAz', 'spotify:track:3CRDbSIZ4r5MsZ0YwxuEkn', 'spotify:track:7qxjGHW485TL8ciwkHD5MK', 'spotify:track:6GmkJJMe9U1tEcrJ3Hq3A1', 'spotify:track:40sRwFjfrRnaTdYPJIg4CP', 'spotify:track:4Oyl6oYSNeeZZP0OAxPVaU', 'spotify:track:57yL3161hUMuw06zzzUCHi', 'spotify:track:7i9763l5SSfOnqZ35VOcfy', 'spotify:track:22OqansuvEMQu9W0EfiGTI', 'spotify:track:5U2m76qAMdr3gXI0g6ptlG', 'spotify:track:4dzOxPZFYX77xpMwv4EhnO', 'spotify:track:5Nhsc59aScz67qNXA0y9Mn', 'spotify:track:4hAhyE1iL07EIUJnqw2bsV', 'spotify:track:1lbWbnWiEbAya5FlCzfsrq', 'spotify:track:2E26jtkc5BONr50yOwyupV', 'spotify:track:57nNNkgk768QVXq3uHxu5e', 'spotify:track:21zv5Hi0SQSvLyaKPiKreg', 'spotify:track:4WUduEPZZG6wiE9B5IklnY', 'spotify:track:3Syg4GwsW6yFeTbZUqWvYS', 'spotify:track:5cbpoIu3YjoOwbBDGUEp3P', 'spotify:track:3NLnwwAQbbFKcEcV8hDItk', 'spotify:track:3rJAP9G6hjx2kN8Jsvas09', 'spotify:track:07jUylEMp4LBOWZagde8tF', 'spotify:track:0elH6ukMGLyCHJavHutEza', 'spotify:track:1AfYo6cKm3yHsJHdmNoGO1', 'spotify:track:2gdtLnVGGg80Kj9GiqP0vH', 'spotify:track:4k7x3QKrc3h3U0Viqk0uop', 'spotify:track:5kTvymHsmlmcy5yQWbWO1U', 'spotify:track:5XzmZjXhMjDHr7ZfJ6DELQ', 'spotify:track:0xSfELjbi6QwmprLDu4Nrx', 'spotify:track:7rdP71W8x4UbJ0KAKBACbo', 'spotify:track:1usLCyaUZ2y0uoPmKj1uYo', 'spotify:track:2K87XMYnUMqLcX3zvtAF4G', 'spotify:track:01f4pMeB8tVxaJsKjnEcEq', 'spotify:track:4E3afPSY5fUEelQS9ppL0e', 'spotify:track:1Dr5JexwA15wmKe7Y7maA9', 'spotify:track:6BVBkKpZK09NmifUMZqj1z', 'spotify:track:0vbbhcA6okLzvsy6WSTlLg', 'spotify:track:4iEOVEULZRvmzYSZY2ViKN', 'spotify:track:6jYIc1aO9W3W5RYOVFL10c', 'spotify:track:7BPVjSTnKJuO4t9IaXgAXT']\n",
      "['spotify:track:7qxjGHW485TL8ciwkHD5MK', 'spotify:track:6GmkJJMe9U1tEcrJ3Hq3A1', 'spotify:track:22OqansuvEMQu9W0EfiGTI', 'spotify:track:4Oyl6oYSNeeZZP0OAxPVaU', 'spotify:track:40sRwFjfrRnaTdYPJIg4CP', 'spotify:track:5P3yUXUC9rZPJPNmYGKEAz', 'spotify:track:3CRDbSIZ4r5MsZ0YwxuEkn', 'spotify:track:7i9763l5SSfOnqZ35VOcfy', 'spotify:track:57yL3161hUMuw06zzzUCHi', 'spotify:track:4FkgULes13bk2eHrsJg4q9', 'spotify:track:4aX4Oycsk1fhHIee1zqsDe', 'spotify:track:2K87XMYnUMqLcX3zvtAF4G', 'spotify:track:3jEPu6FD1icy9cLllhB2XK', 'spotify:track:3vOmmLuvEUgGaVuRsCs2QF', 'spotify:track:7tmtOEDxPN7CWaQWBsG1DY', 'spotify:track:6KkLg2UJB4sUIbtDyc8Esu', 'spotify:track:4NzwdMxsLURckPn8nXkfm9', 'spotify:track:40EqrQIeP09f2Z1Xnghki5', 'spotify:track:6dHNYfLox0XUIC9HLmkSFX', 'spotify:track:34fkQYZUIXOsI2xNxEZbTO', 'spotify:track:12HB8AmFTovKrFcGG36KbL', 'spotify:track:1Ujrbg6RNkyazJ6DbRAutG', 'spotify:track:37rnaGHaKYJNVbLukVgjlo', 'spotify:track:0rUCDF2ymfWpsRlcCytVY3', 'spotify:track:5wU6jk9kxYzFGUpeE6T2Q5', 'spotify:track:2YlZnw2ikdb837oKMKjBkW', 'spotify:track:6rnl5HwEvhsD3wZ6MXZzBp', 'spotify:track:5XzmZjXhMjDHr7ZfJ6DELQ', 'spotify:track:1aiDlPLPljMFUylWjMZras', 'spotify:track:2DVUJ7LTIOEQqjfOZXs8iU', 'spotify:track:5Nhsc59aScz67qNXA0y9Mn', 'spotify:track:6pf9datdAtxQj4EU8UYHSx', 'spotify:track:3TJQRDc5qot9GJb6T0Pdh2', 'spotify:track:7rdP71W8x4UbJ0KAKBACbo', 'spotify:track:3hB5DgAiMAQ4DzYbsMq1IT', 'spotify:track:4E3afPSY5fUEelQS9ppL0e', 'spotify:track:69bp2EbF7Q2rqc5N3ylezZ', 'spotify:track:37IToWWYUc9nuH3ijz4tqV', 'spotify:track:3CJvmtWw2bJsudbAC5uCQk', 'spotify:track:3NLnwwAQbbFKcEcV8hDItk', 'spotify:track:3IMXLQk09YmvNb2tdT4aWk', 'spotify:track:3pzjHKrQSvXGHQ98dx18HI', 'spotify:track:3viZcRlE38APncWJ5VGM4q', 'spotify:track:0vbbhcA6okLzvsy6WSTlLg', 'spotify:track:2HWWsTZxnLSUdFZ4gjsP5N', 'spotify:track:6qTmzzABhT2B98gooqQkzP', 'spotify:track:2aFiaMXmWsM3Vj72F9ksBl', 'spotify:track:6ZANrVuAMp2rpjhfbOuJly', 'spotify:track:0ofAJU4e7plk0Xbvt81wjG', 'spotify:track:5k7KtLUFDlawcjyvo5NpnT', 'spotify:track:1bpnYrDCforv9ctJMzJRV8']\n"
     ]
    }
   ],
   "source": [
    "cbr_extended_recs = cbr_extended.recommend(498917, topN = dev_holdouts.get(498917))\n",
    "print(cb_extended_recs)\n",
    "\n",
    "cbr_general_recs = cbr_general.recommend(498917, topN = dev_holdouts.get(498917))\n",
    "print(cbr_general_recs)"
   ]
  },
  {
   "cell_type": "markdown",
   "metadata": {},
   "source": [
    "## Parameter tuning\n",
    "Parameters are tuned through evaluating performance of different parameter settings on the train+dev (?) set. Those settings will be used for the test set."
   ]
  },
  {
   "cell_type": "code",
   "execution_count": 90,
   "metadata": {},
   "outputs": [],
   "source": [
    "import metrics\n",
    "infile = 'data/dev_gt.txt'\n",
    "split_pits = None\n",
    "with open(infile, 'rt') as f_i:\n",
    "    split_pits = [z.strip(' ()') for z in f_i.read().strip().split('\\n')]\n",
    "\n",
    "target_sets = dict()\n",
    "if split_pits:\n",
    "    for tup in split_pits:\n",
    "        k = tup.split(', ')[0]\n",
    "        v = list()\n",
    "        for z in tup.split(', ')[1:]:\n",
    "            v.append(z.strip(' '))\n",
    "        target_sets[k] = v\n",
    "        \n",
    "#target_sets"
   ]
  },
  {
   "cell_type": "code",
   "execution_count": 91,
   "metadata": {},
   "outputs": [
    {
     "name": "stdout",
     "output_type": "stream",
     "text": [
      "0.0\n",
      "0.0\n"
     ]
    }
   ],
   "source": [
    "target_set = target_sets.get('498917')\n",
    "\n",
    "#TODO: Evaluate results:\n",
    "print(metrics.r_precision(target_set, cbr_extended_recs, dev_holdouts.get(498917)))\n",
    "print(metrics.r_precision(target_set, cbr_general_recs, dev_holdouts.get(498917)))\n",
    "    \n",
    "#TODO: Parameter tuning\n",
    "## Content-based \n",
    "cbr = ContentBasedRecommender('extended')"
   ]
  },
  {
   "cell_type": "markdown",
   "metadata": {},
   "source": [
    "## Evaluation on test set "
   ]
  },
  {
   "cell_type": "code",
   "execution_count": 33,
   "metadata": {},
   "outputs": [],
   "source": [
    "import metrics\n",
    "infile = 'data/test_gt.txt'\n",
    "split_pits = None\n",
    "with open(infile, 'rt') as f_i:\n",
    "    split_pits = [z.strip(' ()') for z in f_i.read().strip().split('\\n')]\n",
    "\n",
    "target_sets = dict()\n",
    "if split_pits:\n",
    "    for tup in split_pits:\n",
    "        k = tup.split(', ')[0]\n",
    "        v = list()\n",
    "        for z in tup.split(', ')[1:]:\n",
    "            v.append(z.strip(' '))\n",
    "        target_sets[k] = v\n",
    "        \n",
    "#target_sets"
   ]
  },
  {
   "cell_type": "code",
   "execution_count": null,
   "metadata": {},
   "outputs": [],
   "source": [
    "#TODO: evaluation on test set\n",
    "\n",
    "\n",
    "# Content-based\n",
    "#cbr.build_model(ratings_train_test, tracks)\n",
    "#recs = cbr.recommend(498917, topN = test_holdouts.get(498917))\n",
    "metrics.r_precision(target_set, cb_recs)"
   ]
  },
  {
   "cell_type": "code",
   "execution_count": null,
   "metadata": {},
   "outputs": [],
   "source": []
  }
 ],
 "metadata": {
  "kernelspec": {
   "display_name": "Python 3",
   "language": "python",
   "name": "python3"
  },
  "language_info": {
   "codemirror_mode": {
    "name": "ipython",
    "version": 3
   },
   "file_extension": ".py",
   "mimetype": "text/x-python",
   "name": "python",
   "nbconvert_exporter": "python",
   "pygments_lexer": "ipython3",
   "version": "3.6.4"
  }
 },
 "nbformat": 4,
 "nbformat_minor": 2
}
